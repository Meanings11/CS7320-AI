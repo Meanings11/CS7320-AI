{
 "cells": [
  {
   "cell_type": "markdown",
   "metadata": {},
   "source": [
    "# Search: Solving a maze\n",
    "\n",
    "Total Points: 10\n",
    "\n",
    "\n",
    "The agent has a map of the maze it is in (i.e., the environment is deterministic, discrete, and known). The agent must use the map to plan a path through the maze from the starting location $S$ to the goal location $G$.  \n",
    "\n",
    "Here is the small example maze:"
   ]
  },
  {
   "cell_type": "code",
   "execution_count": null,
   "metadata": {},
   "outputs": [],
   "source": [
    "f = open(\"small_maze.txt\", \"r\")\n",
    "maze_str = f.read()\n",
    "print(maze_str)"
   ]
  },
  {
   "cell_type": "markdown",
   "metadata": {},
   "source": [
    "__Notes:__ \n",
    "* This is a planing exercise, so you do not need to implement an environment, just use the map to search for a path. Once the plan is made, the agent can just follow the path and does not need percepts. The execution phase is trivial and we do not implement it in this exercise.\n",
    "* Tree search algorithm implementations that you find online have often a different aim. The algorithms assume that you already have a tree and the goal is to traverse all nodes. We are interested in dynamically creating a search tree with the aim of finding a good/the best path to the goal state. Ideally, we would like to search only a small part of the maze, i.e., create a search tree with as few nodes as possible. \n",
    "* Some mazes may contain cycles and therefore not form proper trees unless cycles are prevented. \n",
    "\n",
    "## Parsing and pretty printing the maze\n",
    "\n",
    "The maze can also be displayed in color using code in the file [maze_helper.py](maze_helper.py). The code parses the string representing the maze and converts it into a `numpy` 2d array which you can use in your implementation."
   ]
  },
  {
   "cell_type": "code",
   "execution_count": null,
   "metadata": {
    "scrolled": true
   },
   "outputs": [],
   "source": [
    "%run maze_helper.py\n",
    "\n",
    "maze = parse_maze(maze_str)\n",
    "\n",
    "# look at two positions in the maze\n",
    "print(\"Position(0,0):\", maze[0, 0])\n",
    "print(\"Position(0,0):\", maze[8, 1])\n",
    "\n",
    "\n",
    "# there is also a helper function called `look(maze, pos)`\n",
    "print(\"Position(8,1):\", look(maze, [8, 1]))"
   ]
  },
  {
   "cell_type": "markdown",
   "metadata": {},
   "source": [
    "Visualize the maze"
   ]
  },
  {
   "cell_type": "code",
   "execution_count": null,
   "metadata": {},
   "outputs": [],
   "source": [
    "show_maze(maze)"
   ]
  },
  {
   "cell_type": "markdown",
   "metadata": {},
   "source": [
    "Find the position of the start and the goal using the helper function `find_pos()`"
   ]
  },
  {
   "cell_type": "code",
   "execution_count": null,
   "metadata": {},
   "outputs": [],
   "source": [
    "print(\"Start location:\", find_pos(maze, what = \"S\"))\n",
    "print(\"Goal location:\", find_pos(maze, what = \"G\"))"
   ]
  },
  {
   "cell_type": "markdown",
   "metadata": {},
   "source": [
    "## Tree structures\n",
    "\n",
    "A basic tree implementation in Python is available at https://github.com/yoyzhou/pyTree (found by John Park).\n"
   ]
  },
  {
   "cell_type": "markdown",
   "metadata": {},
   "source": [
    "# Tasks\n",
    "\n",
    "Implement the following search algorithms for solving different mazes:\n",
    "\n",
    "* Breadth-first search (BFS)\n",
    "* Depth-first search (DFS)\n",
    "* Iterative deepening search (IDS)\n",
    "* Greedy best-first search (GBFS)\n",
    "* A* search\n",
    "\n",
    "Run each of the above algorithms on the \n",
    "[small maze](small_maze.txt), \n",
    "[medium maze](medium_maze.txt), \n",
    "[large maze](large_maze.txt), \n",
    "[open maze](open_maze.txt),\n",
    "[empty maze](empty_maze.txt), \n",
    "[wall maze](wall_maze.txt), \n",
    "and the \n",
    "[loops maze](loops_maze.txt). \n",
    "For each problem instance and each search algorithm, report the following in a table:\n",
    "\n",
    "* The solution and its path cost\n",
    "* Number of nodes expanded\n",
    "* Maximum tree depth searched\n",
    "* Maximum size of the frontier.\n",
    "\n",
    "Display each solution by marking every maze square (or state) visited and the squares on the final path."
   ]
  },
  {
   "cell_type": "markdown",
   "metadata": {},
   "source": [
    "## Task 1: Defining the search Problem [1 point]\n",
    "\n",
    "Define the components of the search problem:\n",
    "\n",
    "* Initial state\n",
    "* Actions\n",
    "* Transition model\n",
    "* Goal state\n",
    "* Path cost"
   ]
  },
  {
   "cell_type": "markdown",
   "metadata": {},
   "source": [
    "* Initial state: Point S\n",
    "* Actions: move from one point to another in the maze\n",
    "* Transition model: If it move from one position to another, it ends up in the later location\n",
    "    \n",
    "* Goal state: Point G\n",
    "* Path cost: number of points traversed"
   ]
  },
  {
   "cell_type": "markdown",
   "metadata": {},
   "source": [
    "## Task 2: Breadth-first, Depth-first and iterative deepening search [4 points]\n",
    "\n",
    "Implement these search strategies. You can implement a generic tree search following the BFS pseudo-code in your textbook and then just adapt the order in which the frontier is explored."
   ]
  },
  {
   "cell_type": "code",
   "execution_count": null,
   "metadata": {},
   "outputs": [],
   "source": [
    "from pyTree.Tree import Tree as Tree\n",
    "import random\n",
    "\n",
    "def manhattan(curr, goal):\n",
    "    x_diff = abs(goal[0]-curr[0])\n",
    "    y_diff = abs(goal[1]-curr[1])\n",
    "    \n",
    "    return (x_diff + y_diff)\n",
    "\n",
    "def getDepth(node):\n",
    "    return len(getPath(node))-1\n",
    "\n",
    "def expand(maze, pos):\n",
    "    near_pos = [[pos[0],pos[1]+1],\n",
    "                [pos[0],pos[1]-1],\n",
    "                [pos[0]+1,pos[1]],\n",
    "               [pos[0]-1,pos[1]]]\n",
    "    \n",
    "    random.shuffle(near_pos) #   add stochastic to DFS\n",
    "    \n",
    "    return([next_pos for next_pos in near_pos if look(maze, next_pos) != \"X\"])\n",
    "\n",
    "\n",
    "def getPath(node):\n",
    "    path = []\n",
    "    path.append(node.data)\n",
    "    \n",
    "    # traverse backward\n",
    "    while not node.isRoot():\n",
    "        node = node.getParent()\n",
    "        path.append(node.data)        \n",
    "#         path.reverse()\n",
    "        \n",
    "    return(path)\n",
    "\n",
    "def showPath(maze, path, reached):\n",
    "    maze_temp = np.copy(maze)\n",
    "   \n",
    "    for [x,y] in path:\n",
    "        if maze_temp[x,y] == \" \":\n",
    "            maze_temp[x,y] = \"P\" \n",
    "        \n",
    "    for [x,y] in reached:\n",
    "        if maze_temp[x,y] == \" \":\n",
    "            maze_temp[x,y] = \".\"\n",
    "    \n",
    "    show_maze(maze_temp)\n",
    "    \n",
    "\n",
    "expand(maze,find_pos(maze, what = \"S\"))\n",
    "expand(maze,[3,6])\n",
    "manhattan([8,5], find_pos(maze, what = \"G\"))\n",
    "\n"
   ]
  },
  {
   "cell_type": "code",
   "execution_count": null,
   "metadata": {},
   "outputs": [],
   "source": [
    "# def mazeSolver(maze,mode):\n",
    "#     if mode = \"IDS\":\n",
    "#         while True\n",
    "#             result = \n",
    "#     else:\n",
    "#         treeSearch(maze,mode)\n",
    "\n",
    "def treeSearch(maze, mode= \"BFS\", depth=0, debug = False, show = False):\n",
    "    # build the root of the tree\n",
    "    start = find_pos(maze, what = \"S\")\n",
    "    goal = find_pos(maze, what = \"G\")\n",
    "    root = Tree(data = start)\n",
    "    node = root\n",
    "    \n",
    "    # check show maze flag\n",
    "    if show: maze_vis = np.copy(maze)\n",
    "    \n",
    "    #init frontier and reached\n",
    "    frontier = []\n",
    "    reached = []\n",
    "    frontier.append(root)\n",
    "    reached.append(root.data)\n",
    "    \n",
    "    while not len(frontier) == 0:\n",
    "        # choose the search strategy\n",
    "        if mode == \"BFS\":\n",
    "            node = frontier.pop(0)\n",
    "        elif mode == \"DFS\":\n",
    "            node = frontier.pop()\n",
    "        elif mode == \"GRE\": \n",
    "            dis = [manhattan(n.data,goal) for n in frontier]\n",
    "            shortest = dis.index(min(dis))\n",
    "            if debug: print(shortest)\n",
    "            node = frontier.pop(shortest)\n",
    "        elif mode == \"AST\":\n",
    "            # g(n) + h(n)\n",
    "            dis = [len(getPath(n))+manhattan(n.data,goal) for n in frontier]\n",
    "            shortest = dis.index(min(dis))\n",
    "            if debug: print(shortest)\n",
    "            node = frontier.pop(shortest)\n",
    "            \n",
    "        # check if goal\n",
    "        if look(maze, node.data) == \"G\": \n",
    "            return ({\"path\": getPath(node),\n",
    "                     \"reached\": reached})\n",
    "        \n",
    "        if debug: print(getDepth(node))\n",
    "        if debug: root.prettyTree()\n",
    "            \n",
    "        \n",
    "        for pos in expand(maze,node.data):\n",
    "#           DFS check cycle\n",
    "                \n",
    "            if not pos in reached:\n",
    "                new_node = Tree(data = pos)\n",
    "                node.addChild(new_node)\n",
    "                frontier.append(new_node)\n",
    "                reached.append(pos)\n",
    "                \n",
    "                if show: maze_vis[pos[0], pos[1]] = \".\"\n",
    "        \n",
    "        if show: show_maze(maze_vis)\n",
    "\n",
    "    return(None) #fail\n",
    " \n",
    "output = treeSearch(maze,mode=\"BFS\",debug = False, show = False)\n",
    "showPath(maze, output[\"path\"], output[\"reached\"])"
   ]
  },
  {
   "cell_type": "markdown",
   "metadata": {},
   "source": [
    "Are your implementations complete and optimal? Explain why. What is the time and space complexity of each?"
   ]
  },
  {
   "cell_type": "code",
   "execution_count": null,
   "metadata": {},
   "outputs": [],
   "source": [
    "# Discussion"
   ]
  },
  {
   "cell_type": "markdown",
   "metadata": {},
   "source": [
    "## Task 3: Greedy best-first search [2 points]\n",
    "\n",
    "You can use the map to estimate the distance from your current position to the goal using the Manhattan distance (see https://en.wikipedia.org/wiki/Taxicab_geometry) as a heuristic function."
   ]
  },
  {
   "cell_type": "code",
   "execution_count": null,
   "metadata": {},
   "outputs": [],
   "source": [
    "# Your code goes here"
   ]
  },
  {
   "cell_type": "markdown",
   "metadata": {},
   "source": [
    "Is this implementation complete and optimal? What is the time and space complexity?"
   ]
  },
  {
   "cell_type": "code",
   "execution_count": null,
   "metadata": {},
   "outputs": [],
   "source": [
    "# Discussion"
   ]
  },
  {
   "cell_type": "markdown",
   "metadata": {},
   "source": [
    "## Task 4: A* Search [3 points]\n",
    "\n",
    "Use again the Manhattan heuristic function."
   ]
  },
  {
   "cell_type": "code",
   "execution_count": null,
   "metadata": {},
   "outputs": [],
   "source": [
    "# Your code goes here"
   ]
  },
  {
   "cell_type": "markdown",
   "metadata": {},
   "source": [
    "Is this implementation complete and optimal? What is the time and space complexity?"
   ]
  },
  {
   "cell_type": "code",
   "execution_count": null,
   "metadata": {},
   "outputs": [],
   "source": [
    "# Discussion"
   ]
  },
  {
   "cell_type": "markdown",
   "metadata": {},
   "source": [
    "Don't forget to add a table that compares the following for the algorithms on the different mazes:\n",
    "\n",
    "* The solution and its path cost\n",
    "* Number of nodes expanded\n",
    "* Maximum tree depth searched\n",
    "* Maximum size of the frontier."
   ]
  },
  {
   "cell_type": "code",
   "execution_count": null,
   "metadata": {},
   "outputs": [],
   "source": [
    "# Add table"
   ]
  },
  {
   "cell_type": "markdown",
   "metadata": {},
   "source": [
    "## Bonus Tasks [+1 point]\n",
    "\n",
    "Instead of defining each square as a state (which you probably did), use only intersections as states. Now the storage requirement is reduced, but the path length between two intersections can be different. If we use total path length in number of squares as path cost, how can we make sure that BFS and iterative deepening search is optimal? Change the code to do so."
   ]
  },
  {
   "cell_type": "code",
   "execution_count": null,
   "metadata": {},
   "outputs": [],
   "source": [
    "# Your code/answer goes here"
   ]
  },
  {
   "cell_type": "markdown",
   "metadata": {},
   "source": [
    "Modify your A* search to add weights (see text book) and explore how different weights influence the result."
   ]
  },
  {
   "cell_type": "code",
   "execution_count": null,
   "metadata": {},
   "outputs": [],
   "source": [
    "# Your code/answer goes here"
   ]
  },
  {
   "cell_type": "markdown",
   "metadata": {},
   "source": [
    "What happens if the agent does not know the layout of the maze in advance (i.e., faces an unkown, only partially observable environment)? How does the environment look then (PEAS description)? How would you implement a rational agent to solve the maze? What if the agent still has a GPS device to tell the distance to the goal?"
   ]
  },
  {
   "cell_type": "code",
   "execution_count": null,
   "metadata": {},
   "outputs": [],
   "source": [
    "# Your code/answer goes here"
   ]
  }
 ],
 "metadata": {
  "kernelspec": {
   "display_name": "Python 3",
   "language": "python",
   "name": "python3"
  },
  "language_info": {
   "codemirror_mode": {
    "name": "ipython",
    "version": 3
   },
   "file_extension": ".py",
   "mimetype": "text/x-python",
   "name": "python",
   "nbconvert_exporter": "python",
   "pygments_lexer": "ipython3",
   "version": "3.8.5"
  }
 },
 "nbformat": 4,
 "nbformat_minor": 4
}
