{
 "cells": [
  {
   "cell_type": "markdown",
   "metadata": {},
   "source": [
    "# Solving the n-Queens Problem using Local Search\n",
    "\n",
    "Points: 10"
   ]
  },
  {
   "cell_type": "markdown",
   "metadata": {},
   "source": [
    "## The n-Queens Problem\n",
    "\n",
    "__Goal:__ Find an arrangement of $n$ queens on a $n \\times n$ chess board so that no queen is on the same row, column or diagonal as any other queen.\n",
    "\n",
    "__State space:__ An arrangement of the queens on the board. We restrict the state space to arrangements where there is only a single queen per column. We represent a state as an integer vector of length $n$, each number representing for one column (from left to write) the row the queen is located in. We will call a state a \"board.\"\n",
    "\n",
    "__Objective function:__ The number of pairwise conflicts (i.e., two queens in the same row/column/diagonal).\n",
    "\n",
    "The optimization problem is to find the optimal arrangement $a^*$ of $n$ queens on the board:\n",
    "\n",
    "$$a^* = \\mathrm{argmin}_a [ \\mathrm{conflicts}(a) ]$$\n",
    "\n",
    "$$\\text{s.t.}\\ a \\ \\text{contains only one queen per column}$$\n",
    "\n",
    "Note that for this problem there is always an arrangement $a^*$ with $\\mathrm{conflicts}(a) = 0$. \n",
    "\n",
    "__Local move:__ Move one queen to a different position in its column.\n",
    "\n",
    "## Helper functions\n"
   ]
  },
  {
   "cell_type": "code",
   "execution_count": 2,
   "metadata": {},
   "outputs": [],
   "source": [
    "import numpy as np\n",
    "import matplotlib.pyplot as plt\n",
    "from matplotlib import colors\n",
    "import math\n",
    "\n",
    "\n",
    "def random_board(n):\n",
    "    \"\"\"Creates a random board of size n x n. Note that only a single queen is placed in each column!\"\"\"\n",
    "    \n",
    "    return(np.random.randint(0,n-1, size = n))\n",
    "\n",
    "\n",
    "def conflicts(board):\n",
    "    \"\"\"Caclulate the number of conflicts, i.e., the objective function.\"\"\"\n",
    "    \n",
    "    board = np.array(board)\n",
    "    \n",
    "    n = len(board)\n",
    "    conflicts = 0\n",
    "\n",
    "    # check horizontal (we do not check vertical since the state space is restricted to one queen per col)\n",
    "    for i in range(n): conflicts += math.comb(np.sum(board == i), 2)\n",
    "    #print(f\"Horizontal conflicts: {conflicts}\")\n",
    "    \n",
    "    # check for each queen diagonally up and down (only to the right side of the queen)\n",
    "    for j in range(n):\n",
    "        q_up = board[j]\n",
    "        q_down = board[j]\n",
    "     \n",
    "        for jj in range(j+1, n):\n",
    "            q_up -= 1\n",
    "            q_down += 1\n",
    "            if board[jj] == q_up: conflicts += 1\n",
    "            if board[jj] == q_down: conflicts += 1\n",
    "        #print(f\"Conflicts after queen {j}: {conflicts}\")\n",
    "       \n",
    "    return(conflicts)\n",
    "        \n",
    "\n",
    "def show_board(board, cols = ['white', 'gray']):  \n",
    "    \"\"\"display the board\"\"\"\n",
    "    \n",
    "    n = len(board)\n",
    "    \n",
    "    # create chess board display\n",
    "    display = np.zeros([n,n])\n",
    "    for i in range(n):\n",
    "        for j in range(n):\n",
    "            if (((i+j) % 2) != 0): \n",
    "                display[i,j] = 1\n",
    "    \n",
    "    cmap = colors.ListedColormap(cols)\n",
    "    fig, ax = plt.subplots()\n",
    "    ax.imshow(display, cmap = cmap, \n",
    "              norm = colors.BoundaryNorm(range(len(cols)+1), cmap.N))\n",
    "    ax.set_xticks([])\n",
    "    ax.set_yticks([])\n",
    "    \n",
    "    # place queens. Note: 1 and j are switched. Unicode u265B is a black queen\n",
    "    for j in range(n):\n",
    "        plt.text(j, board[j], u\"\\u265B\", fontsize = 48, \n",
    "                 horizontalalignment = 'center',\n",
    "                 verticalalignment = 'center')\n",
    "    \n",
    "    print(f\"Board with {conflicts(board)} conflicts.\")\n",
    "    plt.show()"
   ]
  },
  {
   "cell_type": "markdown",
   "metadata": {},
   "source": [
    "## Create a board"
   ]
  },
  {
   "cell_type": "code",
   "execution_count": 3,
   "metadata": {},
   "outputs": [
    {
     "name": "stdout",
     "output_type": "stream",
     "text": [
      "Board with 2 conflicts.\n"
     ]
    },
    {
     "data": {
      "image/png": "[encoded data removed]",
      "text/plain": [
       "<Figure size 432x288 with 1 Axes>"
      ]
     },
     "metadata": {},
     "output_type": "display_data"
    },
    {
     "name": "stdout",
     "output_type": "stream",
     "text": [
      "Queens (left to right) are at rows: [0 2 0 1]\n",
      "Number of conflicts: 2\n"
     ]
    }
   ],
   "source": [
    "board = random_board(4)\n",
    "show_board(board)\n",
    "print(f\"Queens (left to right) are at rows: {board}\")\n",
    "print(f\"Number of conflicts: {conflicts(board)}\")"
   ]
  },
  {
   "cell_type": "markdown",
   "metadata": {},
   "source": [
    "A board $4 \\times 4$ with no conflicts:"
   ]
  },
  {
   "cell_type": "code",
   "execution_count": 4,
   "metadata": {},
   "outputs": [
    {
     "name": "stdout",
     "output_type": "stream",
     "text": [
      "Board with 0 conflicts.\n"
     ]
    },
    {
     "data": {
      "image/png": "[encoded data removed]",
      "text/plain": [
       "<Figure size 432x288 with 1 Axes>"
      ]
     },
     "metadata": {},
     "output_type": "display_data"
    }
   ],
   "source": [
    "board = [1,3,0,2]\n",
    "show_board(board)"
   ]
  },
  {
   "cell_type": "markdown",
   "metadata": {},
   "source": [
    "## Steepest-ascend Hill Climbing Search [3 Points]\n",
    "\n",
    "Calculate the objective function for all local moves (move each queen within its column) and always choose the best among all local moves."
   ]
  },
  {
   "cell_type": "code",
   "execution_count": 267,
   "metadata": {},
   "outputs": [
    {
     "name": "stdout",
     "output_type": "stream",
     "text": [
      "[2 2 0 0]\n",
      "12\n",
      "[2 2 0 3]\n"
     ]
    }
   ],
   "source": [
    "board = random_board(4)\n",
    "print(board)\n",
    "\n",
    "def all_next_moves(board):\n",
    "    moves = []\n",
    "    \n",
    "    for q in range(len(board)):\n",
    "        for i in range(0,len(board)):\n",
    "            temp = board.copy()\n",
    "            if i != board[q]:\n",
    "                temp[q]=i\n",
    "                moves.append(temp)\n",
    "    \n",
    "    return np.array(moves)\n",
    "\n",
    "def next_best_move(moves):\n",
    "    \n",
    "    conflict = [conflicts(m) for m in moves]\n",
    "    min_index = conflict.index(min(conflict))\n",
    "    return moves[min_index]\n",
    "\n",
    "\n",
    "moves = get_all_moves(board)\n",
    "print(len(moves))\n",
    "print(next_best_move(moves))"
   ]
  },
  {
   "cell_type": "code",
   "execution_count": 274,
   "metadata": {
    "scrolled": false
   },
   "outputs": [
    {
     "name": "stdout",
     "output_type": "stream",
     "text": [
      "initial conflicts: 4\n",
      "Board with 4 conflicts.\n"
     ]
    },
    {
     "data": {
      "image/png": "[encoded data removed]",
      "text/plain": [
       "<Figure size 432x288 with 1 Axes>"
      ]
     },
     "metadata": {},
     "output_type": "display_data"
    },
    {
     "name": "stdout",
     "output_type": "stream",
     "text": [
      "new conflict: 2\n",
      "Board with 2 conflicts.\n"
     ]
    },
    {
     "data": {
      "image/png": "[encoded data removed]",
      "text/plain": [
       "<Figure size 432x288 with 1 Axes>"
      ]
     },
     "metadata": {},
     "output_type": "display_data"
    },
    {
     "name": "stdout",
     "output_type": "stream",
     "text": [
      "new conflict: 1\n",
      "Board with 1 conflicts.\n"
     ]
    },
    {
     "data": {
      "image/png": "[encoded data removed]",
      "text/plain": [
       "<Figure size 432x288 with 1 Axes>"
      ]
     },
     "metadata": {},
     "output_type": "display_data"
    },
    {
     "name": "stdout",
     "output_type": "stream",
     "text": [
      "Board with 1 conflicts.\n"
     ]
    },
    {
     "data": {
      "image/png": "[encoded data removed]",
      "text/plain": [
       "<Figure size 432x288 with 1 Axes>"
      ]
     },
     "metadata": {},
     "output_type": "display_data"
    }
   ],
   "source": [
    "def SAHC(board, debug = False):\n",
    "    n = len(board)\n",
    "    curr_b = board.copy()\n",
    "    curr_conflict = conflicts(curr_b)\n",
    "    if debug: print(f\"initial conflicts: {curr_conflict}\")\n",
    "    if debug:show_board(curr_b)\n",
    "    \n",
    "    while(1):\n",
    "        # get the best local moves\n",
    "        \n",
    "        next_moves = all_next_moves(curr_b)\n",
    "        new_board = next_best_move(next_moves)\n",
    "        new_conflict = conflicts(new_board)\n",
    "        \n",
    "        if new_conflict < curr_conflict:\n",
    "            curr_b = new_board\n",
    "            curr_conflict = new_conflict\n",
    "            if debug: print(f\"new conflict: {curr_conflict}\")\n",
    "            if debug: show_board(curr_b)\n",
    "                \n",
    "        else:\n",
    "            return curr_b\n",
    "        \n",
    "\n",
    "board = random_board(4)\n",
    "SAHC(board,debug=True)\n"
   ]
  },
  {
   "cell_type": "markdown",
   "metadata": {},
   "source": [
    "## Steepest-ascend Hill Climbing Search with Random Restarts [1 Point]\n",
    "\n",
    "Steepest-ascend hill climbing will often end up in local optima. Restart the algorithm up to 100 times with a random board to find a better (hopefully optimal) solution.   "
   ]
  },
  {
   "cell_type": "code",
   "execution_count": 6,
   "metadata": {
    "scrolled": false
   },
   "outputs": [],
   "source": [
    "# Code goes here"
   ]
  },
  {
   "cell_type": "markdown",
   "metadata": {},
   "source": [
    "## Stochastic Hill Climbing [1 Point]\n",
    "\n",
    "Chooses randomly from among all uphill moves."
   ]
  },
  {
   "cell_type": "code",
   "execution_count": 7,
   "metadata": {},
   "outputs": [],
   "source": [
    "# Code goes here"
   ]
  },
  {
   "cell_type": "markdown",
   "metadata": {},
   "source": [
    "## First-choice Hill Climbing [1 Point]\n",
    "\n",
    "First-choice hill climbing is a type of stochastic hill climbing that generates one random local neighbor at a time and accept it if it has a better objective function value than the current state."
   ]
  },
  {
   "cell_type": "code",
   "execution_count": 236,
   "metadata": {},
   "outputs": [
    {
     "name": "stdout",
     "output_type": "stream",
     "text": [
      "[0, 0, 3, 1]\n",
      "initial conflicts: 5\n",
      "step: 2 - new conflict: 4\n",
      "step: 3 - new conflict: 3\n",
      "step: 124 - new conflict: 2\n",
      "step: 128 - new conflict: 1\n",
      "step: 1129 - no improvement for 1000 steps.\n",
      "Board with 1 conflicts.\n"
     ]
    },
    {
     "data": {
      "image/png": "[encoded data removed]",
      "text/plain": [
       "<Figure size 432x288 with 1 Axes>"
      ]
     },
     "metadata": {},
     "output_type": "display_data"
    }
   ],
   "source": [
    "def random_move(board):\n",
    "    # random queen and then random row\n",
    "    random_queen = np.random.randint(0,len(board))\n",
    "    \n",
    "    #exclude original step\n",
    "    row = [i for i in range(0,len(board)) if i != board[random_queen]]\n",
    "    board[random_queen] = np.random.choice(row)\n",
    "\n",
    "    return board\n",
    "\n",
    "print(random_move([0,0,0,1]))\n",
    "\n",
    "def FCHC(board=None, n=4, max_steps = 10000, \n",
    "         stop_after = 1000, debug= False):\n",
    "\n",
    "    if not board is None:\n",
    "        curr_b = board\n",
    "    else:\n",
    "        curr_b = random_board(n)\n",
    "        \n",
    "    n = len(curr_b)\n",
    "    curr_conflict = conflicts(curr_b)\n",
    "    if debug: print(f\"initial conflicts: {curr_conflict}\")\n",
    "    \n",
    "    last_better_step = 0\n",
    "    \n",
    "    for s in range(max_steps):\n",
    "        \n",
    "        new_board = random_move(curr_b)\n",
    "        new_conflict = conflicts(new_board)\n",
    "        \n",
    "        if new_conflict < curr_conflict:\n",
    "            curr_b = new_board\n",
    "            curr_conflict = new_conflict\n",
    "            last_better_step = s\n",
    "            if debug: print(f\"step: {s} - new conflict: {curr_conflict}\")\n",
    "#             show_board(curr_b)\n",
    "        \n",
    "        # global optimal\n",
    "        if curr_conflict == 0:\n",
    "            break\n",
    "        \n",
    "        if s - last_better_step > stop_after:\n",
    "            if debug: print(f\"step: {s} - no improvement for {stop_after} steps.\")\n",
    "            break\n",
    "        \n",
    "    return(curr_b)\n",
    "                            \n",
    "show_board(FCHC(n=6,debug=True))"
   ]
  },
  {
   "cell_type": "markdown",
   "metadata": {},
   "source": [
    "## Simulated Annealing [2 Points]\n",
    "\n",
    "You have to experiment with the annealing schedule."
   ]
  },
  {
   "cell_type": "code",
   "execution_count": 9,
   "metadata": {},
   "outputs": [],
   "source": [
    "# Code goes here"
   ]
  },
  {
   "cell_type": "markdown",
   "metadata": {},
   "source": [
    "## Compare Performance [2 Points]\n",
    "\n",
    "Use runtime, scalability, and best objective function value to compare the algorithms on boards of different sizes.  \n",
    "\n",
    "For timing you can use the `time` package."
   ]
  },
  {
   "cell_type": "code",
   "execution_count": 10,
   "metadata": {},
   "outputs": [
    {
     "name": "stdout",
     "output_type": "stream",
     "text": [
      "Do something\n",
      "This took: 0.2281665802001953 milliseconds\n"
     ]
    }
   ],
   "source": [
    "import time\n",
    "\n",
    "t0 = time.time()\n",
    "print(\"Do something\")\n",
    "t1 = time.time()\n",
    "\n",
    "print(f\"This took: {(t1-t0) * 1e3} milliseconds\")"
   ]
  },
  {
   "cell_type": "code",
   "execution_count": 11,
   "metadata": {},
   "outputs": [],
   "source": [
    "# Code and results go here"
   ]
  },
  {
   "cell_type": "markdown",
   "metadata": {},
   "source": [
    "## Bonus: Genetic Algorithm [+1 Point]"
   ]
  },
  {
   "cell_type": "code",
   "execution_count": 12,
   "metadata": {},
   "outputs": [],
   "source": [
    "# Code goes here"
   ]
  }
 ],
 "metadata": {
  "kernelspec": {
   "display_name": "Python 3",
   "language": "python",
   "name": "python3"
  },
  "language_info": {
   "codemirror_mode": {
    "name": "ipython",
    "version": 3
   },
   "file_extension": ".py",
   "mimetype": "text/x-python",
   "name": "python",
   "nbconvert_exporter": "python",
   "pygments_lexer": "ipython3",
   "version": "3.8.5"
  }
 },
 "nbformat": 4,
 "nbformat_minor": 4
}
