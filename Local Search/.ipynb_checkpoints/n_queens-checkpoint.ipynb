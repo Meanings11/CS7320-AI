{
 "cells": [
  {
   "cell_type": "markdown",
   "metadata": {},
   "source": [
    "# Solving the n-Queens Problem using Local Search\n",
    "\n",
    "Points: 10"
   ]
  },
  {
   "cell_type": "markdown",
   "metadata": {},
   "source": [
    "## The n-Queens Problem\n",
    "\n",
    "__Goal:__ Find an arrangement of $n$ queens on a $n \\times n$ chess board so that no queen is on the same row, column or diagonal as any other queen.\n",
    "\n",
    "__State space:__ An arrangement of the queens on the board. We restrict the state space to arrangements where there is only a single queen per column. We represent a state as an integer vector of length $n$, each number representing for one column (from left to write) the row the queen is located in. We will call a state a \"board.\"\n",
    "\n",
    "__Objective function:__ The number of pairwise conflicts (i.e., two queens in the same row/column/diagonal).\n",
    "\n",
    "The optimization problem is to find the optimal arrangement $a^*$ of $n$ queens on the board:\n",
    "\n",
    "$$a^* = \\mathrm{argmin}_a [ \\mathrm{conflicts}(a) ]$$\n",
    "\n",
    "$$\\text{s.t.}\\ a \\ \\text{contains only one queen per column}$$\n",
    "\n",
    "Note that for this problem there is always an arrangement $a^*$ with $\\mathrm{conflicts}(a) = 0$. \n",
    "\n",
    "__Local move:__ Move one queen to a different position in its column.\n",
    "\n",
    "## Helper functions\n"
   ]
  },
  {
   "cell_type": "code",
   "execution_count": 2,
   "metadata": {},
   "outputs": [],
   "source": [
    "import numpy as np\n",
    "import matplotlib.pyplot as plt\n",
    "from matplotlib import colors\n",
    "import math\n",
    "\n",
    "\n",
    "def random_board(n):\n",
    "    \"\"\"Creates a random board of size n x n. Note that only a single queen is placed in each column!\"\"\"\n",
    "    \n",
    "    return(np.random.randint(0,n-1, size = n))\n",
    "\n",
    "\n",
    "def conflicts(board):\n",
    "    \"\"\"Caclulate the number of conflicts, i.e., the objective function.\"\"\"\n",
    "    \n",
    "    board = np.array(board)\n",
    "    \n",
    "    n = len(board)\n",
    "    conflicts = 0\n",
    "\n",
    "    # check horizontal (we do not check vertical since the state space is restricted to one queen per col)\n",
    "    for i in range(n): conflicts += math.comb(np.sum(board == i), 2)\n",
    "    #print(f\"Horizontal conflicts: {conflicts}\")\n",
    "    \n",
    "    # check for each queen diagonally up and down (only to the right side of the queen)\n",
    "    for j in range(n):\n",
    "        q_up = board[j]\n",
    "        q_down = board[j]\n",
    "     \n",
    "        for jj in range(j+1, n):\n",
    "            q_up -= 1\n",
    "            q_down += 1\n",
    "            if board[jj] == q_up: conflicts += 1\n",
    "            if board[jj] == q_down: conflicts += 1\n",
    "        #print(f\"Conflicts after queen {j}: {conflicts}\")\n",
    "       \n",
    "    return(conflicts)\n",
    "        \n",
    "\n",
    "def show_board(board, cols = ['white', 'gray']):  \n",
    "    \"\"\"display the board\"\"\"\n",
    "    \n",
    "    n = len(board)\n",
    "    \n",
    "    # create chess board display\n",
    "    display = np.zeros([n,n])\n",
    "    for i in range(n):\n",
    "        for j in range(n):\n",
    "            if (((i+j) % 2) != 0): \n",
    "                display[i,j] = 1\n",
    "    \n",
    "    cmap = colors.ListedColormap(cols)\n",
    "    fig, ax = plt.subplots()\n",
    "    ax.imshow(display, cmap = cmap, \n",
    "              norm = colors.BoundaryNorm(range(len(cols)+1), cmap.N))\n",
    "    ax.set_xticks([])\n",
    "    ax.set_yticks([])\n",
    "    \n",
    "    # place queens. Note: 1 and j are switched. Unicode u265B is a black queen\n",
    "    for j in range(n):\n",
    "        plt.text(j, board[j], u\"\\u265B\", fontsize = 48, \n",
    "                 horizontalalignment = 'center',\n",
    "                 verticalalignment = 'center')\n",
    "    \n",
    "    print(f\"Board with {conflicts(board)} conflicts.\")\n",
    "    plt.show()"
   ]
  },
  {
   "cell_type": "markdown",
   "metadata": {},
   "source": [
    "## Create a board"
   ]
  },
  {
   "cell_type": "code",
   "execution_count": 3,
   "metadata": {},
   "outputs": [
    {
     "name": "stdout",
     "output_type": "stream",
     "text": [
      "Board with 2 conflicts.\n"
     ]
    },
    {
     "data": {
      "image/png": "[encoded data removed]",
      "text/plain": [
       "<Figure size 432x288 with 1 Axes>"
      ]
     },
     "metadata": {},
     "output_type": "display_data"
    },
    {
     "name": "stdout",
     "output_type": "stream",
     "text": [
      "Queens (left to right) are at rows: [0 2 0 1]\n",
      "Number of conflicts: 2\n"
     ]
    }
   ],
   "source": [
    "board = random_board(4)\n",
    "show_board(board)\n",
    "print(f\"Queens (left to right) are at rows: {board}\")\n",
    "print(f\"Number of conflicts: {conflicts(board)}\")"
   ]
  },
  {
   "cell_type": "markdown",
   "metadata": {},
   "source": [
    "A board $4 \\times 4$ with no conflicts:"
   ]
  },
  {
   "cell_type": "code",
   "execution_count": 4,
   "metadata": {},
   "outputs": [
    {
     "name": "stdout",
     "output_type": "stream",
     "text": [
      "Board with 0 conflicts.\n"
     ]
    },
    {
     "data": {
      "image/png": "[encoded data removed]",
      "text/plain": [
       "<Figure size 432x288 with 1 Axes>"
      ]
     },
     "metadata": {},
     "output_type": "display_data"
    }
   ],
   "source": [
    "board = [1,3,0,2]\n",
    "show_board(board)"
   ]
  },
  {
   "cell_type": "markdown",
   "metadata": {},
   "source": [
    "## Steepest-ascend Hill Climbing Search [3 Points]\n",
    "\n",
    "Calculate the objective function for all local moves (move each queen within its column) and always choose the best among all local moves."
   ]
  },
  {
   "cell_type": "code",
   "execution_count": 267,
   "metadata": {},
   "outputs": [
    {
     "name": "stdout",
     "output_type": "stream",
     "text": [
      "[2 2 0 0]\n",
      "12\n",
      "[2 2 0 3]\n"
     ]
    }
   ],
   "source": [
    "# board = random_board(4)\n",
    "# print(board)\n",
    "\n",
    "def all_next_moves(board):\n",
    "    moves = []\n",
    "    \n",
    "    for q in range(len(board)):\n",
    "        for i in range(0,len(board)):\n",
    "            temp = board.copy()\n",
    "            if i != board[q]:\n",
    "                temp[q]=i\n",
    "                moves.append(temp)\n",
    "    \n",
    "    return np.array(moves)\n",
    "\n",
    "def next_best_move(moves):\n",
    "    \n",
    "    conflict = [conflicts(m) for m in moves]\n",
    "    min_index = conflict.index(min(conflict))\n",
    "    return moves[min_index]\n",
    "\n",
    "\n",
    "moves = get_all_moves(board)\n",
    "print(len(moves))\n",
    "print(next_best_move(moves))"
   ]
  },
  {
   "cell_type": "code",
   "execution_count": 516,
   "metadata": {
    "scrolled": false
   },
   "outputs": [
    {
     "name": "stdout",
     "output_type": "stream",
     "text": [
      "Board with 1 conflicts.\n"
     ]
    },
    {
     "data": {
      "image/png": "[encoded data removed]",
      "text/plain": [
       "<Figure size 432x288 with 1 Axes>"
      ]
     },
     "metadata": {},
     "output_type": "display_data"
    }
   ],
   "source": [
    "def SAHC(board, debug = False):\n",
    "    n = len(board)\n",
    "    curr_b = board.copy()\n",
    "    curr_conflict = conflicts(curr_b)\n",
    "    if debug: print(f\"initial conflicts: {curr_conflict}\")\n",
    "    if debug:show_board(curr_b)\n",
    "    \n",
    "    while(1):\n",
    "        # get the best local moves\n",
    "        \n",
    "        next_moves = all_next_moves(curr_b)\n",
    "        new_board = next_best_move(next_moves)\n",
    "        new_conflict = conflicts(new_board)\n",
    "        \n",
    "        if new_conflict < curr_conflict:\n",
    "            curr_b = new_board\n",
    "            curr_conflict = new_conflict\n",
    "            if debug: print(f\"new conflict: {curr_conflict}\")\n",
    "            if debug: show_board(curr_b)\n",
    "                \n",
    "        else:\n",
    "            return curr_b\n",
    "        \n",
    "\n",
    "board = random_board(8)\n",
    "show_board(SAHC(board,debug=False))"
   ]
  },
  {
   "cell_type": "markdown",
   "metadata": {},
   "source": [
    "## Steepest-ascend Hill Climbing Search with Random Restarts [1 Point]\n",
    "\n",
    "Steepest-ascend hill climbing will often end up in local optima. Restart the algorithm up to 100 times with a random board to find a better (hopefully optimal) solution.   "
   ]
  },
  {
   "cell_type": "code",
   "execution_count": 512,
   "metadata": {
    "scrolled": false
   },
   "outputs": [
    {
     "name": "stdout",
     "output_type": "stream",
     "text": [
      "Board with 0 conflicts.\n"
     ]
    },
    {
     "data": {
      "image/png": "[encoded data removed]",
      "text/plain": [
       "<Figure size 432x288 with 1 Axes>"
      ]
     },
     "metadata": {},
     "output_type": "display_data"
    }
   ],
   "source": [
    "def SAHC_random_start(board,start_count=100,debug=False):\n",
    "    curr = board\n",
    "    curr_conflict = conflicts(curr)\n",
    "    \n",
    "    for i in range(start_count):\n",
    "        new_start = random_board(len(board))\n",
    "        new_board = SAHC(new_start)\n",
    "        new_conflict = conflicts(new_board)\n",
    "        \n",
    "        # global optimal \n",
    "        if curr_conflict == 0:\n",
    "            return curr_b\n",
    "        \n",
    "        if new_conflict < curr_conflict:\n",
    "            curr_b = new_board\n",
    "            curr_conflict = new_conflict\n",
    "            if debug: print(f\"new conflict: {curr_conflict}\")\n",
    "            if debug: show_board(curr_b)\n",
    "        \n",
    "    return curr_b\n",
    "\n",
    "board = random_board(8)\n",
    "show_board(SAHC_random_start(board))"
   ]
  },
  {
   "cell_type": "markdown",
   "metadata": {},
   "source": [
    "## Stochastic Hill Climbing [1 Point]\n",
    "\n",
    "Chooses randomly from among all uphill moves."
   ]
  },
  {
   "cell_type": "code",
   "execution_count": 509,
   "metadata": {},
   "outputs": [
    {
     "name": "stdout",
     "output_type": "stream",
     "text": [
      "Board with 2 conflicts.\n"
     ]
    },
    {
     "data": {
      "image/png": "[encoded data removed]",
      "text/plain": [
       "<Figure size 432x288 with 1 Axes>"
      ]
     },
     "metadata": {},
     "output_type": "display_data"
    }
   ],
   "source": [
    "def random_uphill_move(board, threshold):\n",
    "    \n",
    "    moves = all_next_moves(board)\n",
    "    uphill_moves = [m for m in moves if conflicts(m) < threshold]\n",
    "    \n",
    "    #return orignal move if no better move avaiable\n",
    "    if len(uphill_moves)== 0:\n",
    "        return board\n",
    "    else:\n",
    "        return uphill_moves[np.random.choice(len(uphill_moves))]\n",
    "\n",
    "\n",
    "def SHC(board, debug = False):\n",
    "    n = len(board)\n",
    "    curr_b = board.copy()\n",
    "    curr_conflict = conflicts(curr_b)\n",
    "    if debug: print(f\"initial conflicts: {curr_conflict}\")\n",
    "    if debug:show_board(curr_b)\n",
    "    \n",
    "    while(1):\n",
    "        # get the best local moves\n",
    "        new_board = random_uphill_move(curr_b, curr_conflict)\n",
    "        new_conflict = conflicts(new_board)\n",
    "        \n",
    "        if new_conflict < curr_conflict:\n",
    "            curr_b = new_board\n",
    "            curr_conflict = new_conflict\n",
    "            if debug: print(f\"new conflict: {curr_conflict}\")\n",
    "            if debug: show_board(curr_b)\n",
    "                \n",
    "        else:\n",
    "            return curr_b\n",
    "        \n",
    "\n",
    "board = random_board(8)\n",
    "show_board(SHC(board,debug=False))\n"
   ]
  },
  {
   "cell_type": "markdown",
   "metadata": {},
   "source": [
    "## First-choice Hill Climbing [1 Point]\n",
    "\n",
    "First-choice hill climbing is a type of stochastic hill climbing that generates one random local neighbor at a time and accept it if it has a better objective function value than the current state."
   ]
  },
  {
   "cell_type": "code",
   "execution_count": 550,
   "metadata": {},
   "outputs": [
    {
     "name": "stdout",
     "output_type": "stream",
     "text": [
      "initial conflicts: 8\n",
      "step: 3 - new conflict: 7\n",
      "step: 6 - new conflict: 6\n",
      "step: 7 - new conflict: 5\n",
      "step: 15 - new conflict: 4\n",
      "step: 29 - new conflict: 3\n",
      "step: 33 - new conflict: 2\n",
      "step: 1034 - no improvement for 1000 steps.\n",
      "Board with 2 conflicts.\n"
     ]
    },
    {
     "data": {
      "image/png": "[encoded data removed]",
      "text/plain": [
       "<Figure size 432x288 with 1 Axes>"
      ]
     },
     "metadata": {},
     "output_type": "display_data"
    }
   ],
   "source": [
    "def random_move(board):\n",
    "    # random queen and then random row\n",
    "    random_queen = np.random.randint(0,len(board))\n",
    "    \n",
    "    #exclude original step\n",
    "    row = [i for i in range(0,len(board)) if i != board[random_queen]]\n",
    "    board[random_queen] = np.random.choice(row)\n",
    "\n",
    "    return board\n",
    "\n",
    "# print(random_move([0,0,0,1]))\n",
    "\n",
    "def FCHC(board=None, max_steps = 10000, \n",
    "         stop_after = 1000, debug= False):\n",
    "\n",
    "    curr_b = board\n",
    "    curr_conflict = conflicts(curr_b)\n",
    "    if debug: print(f\"initial conflicts: {curr_conflict}\")\n",
    "    \n",
    "    last_better_step = 0\n",
    "    \n",
    "    for s in range(max_steps):\n",
    "        \n",
    "        # decide which schema\n",
    "        new_board = random_move(curr_b.copy())\n",
    "        new_conflict = conflicts(new_board)\n",
    "        \n",
    "        if new_conflict < curr_conflict:\n",
    "            curr_b = new_board\n",
    "            curr_conflict = new_conflict\n",
    "            last_better_step = s\n",
    "            if debug: print(f\"step: {s} - new conflict: {curr_conflict}\")\n",
    "        \n",
    "        # global optimal\n",
    "        if curr_conflict == 0:\n",
    "            break\n",
    "        \n",
    "        if s - last_better_step > stop_after:\n",
    "            if debug: print(f\"step: {s} - no improvement for {stop_after} steps.\")\n",
    "            return(curr_b)\n",
    "        \n",
    "    return(curr_b)\n",
    "\n",
    "board = random_board(8)\n",
    "nb = FCHC(board,debug=True)\n",
    "show_board(nb)"
   ]
  },
  {
   "cell_type": "markdown",
   "metadata": {},
   "source": [
    "## Simulated Annealing [2 Points]\n",
    "\n",
    "You have to experiment with the annealing schedule."
   ]
  },
  {
   "cell_type": "code",
   "execution_count": 551,
   "metadata": {},
   "outputs": [
    {
     "name": "stdout",
     "output_type": "stream",
     "text": [
      "initial conflicts: 13\n",
      "step: 0 \t temp: 28.000 \t deltaE: -2.000 \t new conflcit: 11.000\n",
      "step: 1 \t temp: 27.720 \t deltaE: +2.000 \t new conflcit: 13.000\n",
      "step: 2 \t temp: 27.443 \t deltaE: +3.000 \t new conflcit: 16.000\n",
      "step: 3 \t temp: 27.168 \t deltaE: -4.000 \t new conflcit: 12.000\n",
      "step: 4 \t temp: 26.897 \t deltaE: +0.000 \t new conflcit: 12.000\n",
      "step: 5 \t temp: 26.628 \t deltaE: +0.000 \t new conflcit: 12.000\n",
      "step: 6 \t temp: 26.361 \t deltaE: +0.000 \t new conflcit: 12.000\n",
      "step: 7 \t temp: 26.098 \t deltaE: +2.000 \t new conflcit: 14.000\n",
      "step: 8 \t temp: 25.837 \t deltaE: -3.000 \t new conflcit: 11.000\n",
      "step: 9 \t temp: 25.578 \t deltaE: -2.000 \t new conflcit: 9.000\n",
      "step: 10 \t temp: 25.323 \t deltaE: +4.000 \t new conflcit: 13.000\n",
      "step: 11 \t temp: 25.069 \t deltaE: -3.000 \t new conflcit: 10.000\n",
      "step: 12 \t temp: 24.819 \t deltaE: +0.000 \t new conflcit: 10.000\n",
      "step: 13 \t temp: 24.571 \t deltaE: -1.000 \t new conflcit: 9.000\n",
      "step: 14 \t temp: 24.325 \t deltaE: +0.000 \t new conflcit: 9.000\n",
      "step: 15 \t temp: 24.082 \t deltaE: +0.000 \t new conflcit: 9.000\n",
      "step: 16 \t temp: 23.841 \t deltaE: +2.000 \t new conflcit: 11.000\n",
      "step: 17 \t temp: 23.602 \t deltaE: -1.000 \t new conflcit: 10.000\n",
      "step: 18 \t temp: 23.366 \t deltaE: -1.000 \t new conflcit: 9.000\n",
      "step: 19 \t temp: 23.133 \t deltaE: +2.000 \t new conflcit: 11.000\n",
      "step: 20 \t temp: 22.901 \t deltaE: +1.000 \t new conflcit: 12.000\n",
      "step: 21 \t temp: 22.672 \t deltaE: -3.000 \t new conflcit: 9.000\n",
      "step: 22 \t temp: 22.446 \t deltaE: -4.000 \t new conflcit: 5.000\n",
      "step: 23 \t temp: 22.221 \t deltaE: +2.000 \t new conflcit: 7.000\n",
      "step: 24 \t temp: 21.999 \t deltaE: -2.000 \t new conflcit: 5.000\n",
      "step: 25 \t temp: 21.779 \t deltaE: +1.000 \t new conflcit: 6.000\n",
      "step: 26 \t temp: 21.561 \t deltaE: -2.000 \t new conflcit: 4.000\n",
      "step: 27 \t temp: 21.346 \t deltaE: +2.000 \t new conflcit: 6.000\n",
      "step: 28 \t temp: 21.132 \t deltaE: +0.000 \t new conflcit: 6.000\n",
      "step: 29 \t temp: 20.921 \t deltaE: +1.000 \t new conflcit: 7.000\n",
      "step: 30 \t temp: 20.712 \t deltaE: +1.000 \t new conflcit: 8.000\n",
      "step: 31 \t temp: 20.504 \t deltaE: -1.000 \t new conflcit: 7.000\n",
      "step: 32 \t temp: 20.299 \t deltaE: +0.000 \t new conflcit: 7.000\n",
      "step: 33 \t temp: 20.096 \t deltaE: -1.000 \t new conflcit: 6.000\n",
      "step: 34 \t temp: 19.895 \t deltaE: +0.000 \t new conflcit: 6.000\n",
      "step: 35 \t temp: 19.697 \t deltaE: +1.000 \t new conflcit: 7.000\n",
      "step: 36 \t temp: 19.500 \t deltaE: -1.000 \t new conflcit: 6.000\n",
      "step: 37 \t temp: 19.305 \t deltaE: +1.000 \t new conflcit: 7.000\n",
      "step: 38 \t temp: 19.112 \t deltaE: +1.000 \t new conflcit: 8.000\n",
      "step: 39 \t temp: 18.920 \t deltaE: -2.000 \t new conflcit: 6.000\n",
      "step: 40 \t temp: 18.731 \t deltaE: +1.000 \t new conflcit: 7.000\n",
      "step: 41 \t temp: 18.544 \t deltaE: +0.000 \t new conflcit: 7.000\n",
      "step: 42 \t temp: 18.358 \t deltaE: +2.000 \t new conflcit: 9.000\n",
      "step: 43 \t temp: 18.175 \t deltaE: +1.000 \t new conflcit: 10.000\n",
      "step: 44 \t temp: 17.993 \t deltaE: +0.000 \t new conflcit: 10.000\n",
      "step: 45 \t temp: 17.813 \t deltaE: -1.000 \t new conflcit: 9.000\n",
      "step: 46 \t temp: 17.635 \t deltaE: -2.000 \t new conflcit: 7.000\n",
      "step: 47 \t temp: 17.459 \t deltaE: +0.000 \t new conflcit: 7.000\n",
      "step: 48 \t temp: 17.284 \t deltaE: +0.000 \t new conflcit: 7.000\n",
      "step: 49 \t temp: 17.111 \t deltaE: +0.000 \t new conflcit: 7.000\n",
      "step: 50 \t temp: 16.940 \t deltaE: +2.000 \t new conflcit: 9.000\n",
      "step: 51 \t temp: 16.771 \t deltaE: -1.000 \t new conflcit: 8.000\n",
      "step: 52 \t temp: 16.603 \t deltaE: +3.000 \t new conflcit: 11.000\n",
      "step: 53 \t temp: 16.437 \t deltaE: -3.000 \t new conflcit: 8.000\n",
      "step: 54 \t temp: 16.273 \t deltaE: +1.000 \t new conflcit: 9.000\n",
      "step: 55 \t temp: 16.110 \t deltaE: -1.000 \t new conflcit: 8.000\n",
      "step: 56 \t temp: 15.949 \t deltaE: +1.000 \t new conflcit: 9.000\n",
      "step: 57 \t temp: 15.789 \t deltaE: -2.000 \t new conflcit: 7.000\n",
      "step: 58 \t temp: 15.631 \t deltaE: +0.000 \t new conflcit: 7.000\n",
      "step: 60 \t temp: 15.320 \t deltaE: -2.000 \t new conflcit: 5.000\n",
      "step: 61 \t temp: 15.167 \t deltaE: +1.000 \t new conflcit: 6.000\n",
      "step: 62 \t temp: 15.016 \t deltaE: -2.000 \t new conflcit: 4.000\n",
      "step: 63 \t temp: 14.865 \t deltaE: +1.000 \t new conflcit: 5.000\n",
      "step: 64 \t temp: 14.717 \t deltaE: -2.000 \t new conflcit: 3.000\n",
      "step: 65 \t temp: 14.570 \t deltaE: +2.000 \t new conflcit: 5.000\n",
      "step: 66 \t temp: 14.424 \t deltaE: +1.000 \t new conflcit: 6.000\n",
      "step: 67 \t temp: 14.280 \t deltaE: +1.000 \t new conflcit: 7.000\n",
      "step: 68 \t temp: 14.137 \t deltaE: +0.000 \t new conflcit: 7.000\n",
      "step: 69 \t temp: 13.995 \t deltaE: -2.000 \t new conflcit: 5.000\n",
      "step: 70 \t temp: 13.855 \t deltaE: -1.000 \t new conflcit: 4.000\n",
      "step: 71 \t temp: 13.717 \t deltaE: +4.000 \t new conflcit: 8.000\n",
      "step: 72 \t temp: 13.580 \t deltaE: +0.000 \t new conflcit: 8.000\n",
      "step: 73 \t temp: 13.444 \t deltaE: -1.000 \t new conflcit: 7.000\n",
      "step: 74 \t temp: 13.310 \t deltaE: +0.000 \t new conflcit: 7.000\n",
      "step: 75 \t temp: 13.176 \t deltaE: +2.000 \t new conflcit: 9.000\n",
      "step: 76 \t temp: 13.045 \t deltaE: +0.000 \t new conflcit: 9.000\n",
      "step: 78 \t temp: 12.785 \t deltaE: +1.000 \t new conflcit: 10.000\n",
      "step: 79 \t temp: 12.657 \t deltaE: +0.000 \t new conflcit: 10.000\n",
      "step: 80 \t temp: 12.531 \t deltaE: +0.000 \t new conflcit: 10.000\n",
      "step: 81 \t temp: 12.405 \t deltaE: -1.000 \t new conflcit: 9.000\n",
      "step: 82 \t temp: 12.281 \t deltaE: -4.000 \t new conflcit: 5.000\n",
      "step: 83 \t temp: 12.158 \t deltaE: +1.000 \t new conflcit: 6.000\n",
      "step: 84 \t temp: 12.037 \t deltaE: +1.000 \t new conflcit: 7.000\n",
      "step: 85 \t temp: 11.917 \t deltaE: -1.000 \t new conflcit: 6.000\n",
      "step: 86 \t temp: 11.797 \t deltaE: +3.000 \t new conflcit: 9.000\n",
      "step: 87 \t temp: 11.679 \t deltaE: -2.000 \t new conflcit: 7.000\n",
      "step: 88 \t temp: 11.563 \t deltaE: +2.000 \t new conflcit: 9.000\n",
      "step: 89 \t temp: 11.447 \t deltaE: +1.000 \t new conflcit: 10.000\n",
      "step: 90 \t temp: 11.332 \t deltaE: +0.000 \t new conflcit: 10.000\n",
      "step: 91 \t temp: 11.219 \t deltaE: -1.000 \t new conflcit: 9.000\n",
      "step: 92 \t temp: 11.107 \t deltaE: +0.000 \t new conflcit: 9.000\n",
      "step: 93 \t temp: 10.996 \t deltaE: -4.000 \t new conflcit: 5.000\n",
      "step: 94 \t temp: 10.886 \t deltaE: +2.000 \t new conflcit: 7.000\n",
      "step: 95 \t temp: 10.777 \t deltaE: -2.000 \t new conflcit: 5.000\n",
      "step: 96 \t temp: 10.669 \t deltaE: +0.000 \t new conflcit: 5.000\n",
      "step: 97 \t temp: 10.563 \t deltaE: +2.000 \t new conflcit: 7.000\n",
      "step: 98 \t temp: 10.457 \t deltaE: +4.000 \t new conflcit: 11.000\n",
      "step: 99 \t temp: 10.352 \t deltaE: -2.000 \t new conflcit: 9.000\n",
      "step: 100 \t temp: 10.249 \t deltaE: -1.000 \t new conflcit: 8.000\n",
      "step: 101 \t temp: 10.146 \t deltaE: -1.000 \t new conflcit: 7.000\n",
      "step: 102 \t temp: 10.045 \t deltaE: -1.000 \t new conflcit: 6.000\n",
      "step: 103 \t temp: 9.945 \t deltaE: +0.000 \t new conflcit: 6.000\n",
      "step: 104 \t temp: 9.845 \t deltaE: +0.000 \t new conflcit: 6.000\n",
      "step: 105 \t temp: 9.747 \t deltaE: +1.000 \t new conflcit: 7.000\n",
      "step: 106 \t temp: 9.649 \t deltaE: -1.000 \t new conflcit: 6.000\n",
      "step: 108 \t temp: 9.457 \t deltaE: +0.000 \t new conflcit: 6.000\n",
      "step: 109 \t temp: 9.363 \t deltaE: -1.000 \t new conflcit: 5.000\n",
      "step: 110 \t temp: 9.269 \t deltaE: -1.000 \t new conflcit: 4.000\n",
      "step: 111 \t temp: 9.176 \t deltaE: -1.000 \t new conflcit: 3.000\n",
      "step: 112 \t temp: 9.084 \t deltaE: +1.000 \t new conflcit: 4.000\n",
      "step: 113 \t temp: 8.994 \t deltaE: +1.000 \t new conflcit: 5.000\n",
      "step: 115 \t temp: 8.815 \t deltaE: +1.000 \t new conflcit: 6.000\n",
      "step: 116 \t temp: 8.727 \t deltaE: +0.000 \t new conflcit: 6.000\n",
      "step: 118 \t temp: 8.553 \t deltaE: +1.000 \t new conflcit: 7.000\n",
      "step: 119 \t temp: 8.467 \t deltaE: -1.000 \t new conflcit: 6.000\n",
      "step: 120 \t temp: 8.383 \t deltaE: -1.000 \t new conflcit: 5.000\n",
      "step: 121 \t temp: 8.299 \t deltaE: +2.000 \t new conflcit: 7.000\n",
      "step: 123 \t temp: 8.134 \t deltaE: +1.000 \t new conflcit: 8.000\n",
      "step: 124 \t temp: 8.052 \t deltaE: -1.000 \t new conflcit: 7.000\n",
      "step: 125 \t temp: 7.972 \t deltaE: +0.000 \t new conflcit: 7.000\n",
      "step: 126 \t temp: 7.892 \t deltaE: +0.000 \t new conflcit: 7.000\n",
      "step: 127 \t temp: 7.813 \t deltaE: +1.000 \t new conflcit: 8.000\n",
      "step: 128 \t temp: 7.735 \t deltaE: -1.000 \t new conflcit: 7.000\n",
      "step: 129 \t temp: 7.658 \t deltaE: +0.000 \t new conflcit: 7.000\n",
      "step: 131 \t temp: 7.505 \t deltaE: +2.000 \t new conflcit: 9.000\n",
      "step: 132 \t temp: 7.430 \t deltaE: +1.000 \t new conflcit: 10.000\n",
      "step: 133 \t temp: 7.356 \t deltaE: +0.000 \t new conflcit: 10.000\n",
      "step: 134 \t temp: 7.282 \t deltaE: +0.000 \t new conflcit: 10.000\n",
      "step: 135 \t temp: 7.210 \t deltaE: -3.000 \t new conflcit: 7.000\n",
      "step: 136 \t temp: 7.137 \t deltaE: +3.000 \t new conflcit: 10.000\n",
      "step: 137 \t temp: 7.066 \t deltaE: +1.000 \t new conflcit: 11.000\n",
      "step: 138 \t temp: 6.995 \t deltaE: +0.000 \t new conflcit: 11.000\n",
      "step: 139 \t temp: 6.925 \t deltaE: -2.000 \t new conflcit: 9.000\n",
      "step: 140 \t temp: 6.856 \t deltaE: +1.000 \t new conflcit: 10.000\n",
      "step: 141 \t temp: 6.788 \t deltaE: -1.000 \t new conflcit: 9.000\n",
      "step: 142 \t temp: 6.720 \t deltaE: +2.000 \t new conflcit: 11.000\n",
      "step: 143 \t temp: 6.653 \t deltaE: +1.000 \t new conflcit: 12.000\n",
      "step: 144 \t temp: 6.586 \t deltaE: +1.000 \t new conflcit: 13.000\n",
      "step: 145 \t temp: 6.520 \t deltaE: +1.000 \t new conflcit: 14.000\n",
      "step: 146 \t temp: 6.455 \t deltaE: -4.000 \t new conflcit: 10.000\n",
      "step: 147 \t temp: 6.390 \t deltaE: -1.000 \t new conflcit: 9.000\n",
      "step: 148 \t temp: 6.327 \t deltaE: +0.000 \t new conflcit: 9.000\n",
      "step: 149 \t temp: 6.263 \t deltaE: -1.000 \t new conflcit: 8.000\n",
      "step: 150 \t temp: 6.201 \t deltaE: +1.000 \t new conflcit: 9.000\n",
      "step: 151 \t temp: 6.139 \t deltaE: -3.000 \t new conflcit: 6.000\n",
      "step: 152 \t temp: 6.077 \t deltaE: +0.000 \t new conflcit: 6.000\n",
      "step: 153 \t temp: 6.016 \t deltaE: -2.000 \t new conflcit: 4.000\n",
      "step: 155 \t temp: 5.897 \t deltaE: +2.000 \t new conflcit: 6.000\n",
      "step: 156 \t temp: 5.838 \t deltaE: +0.000 \t new conflcit: 6.000\n",
      "step: 157 \t temp: 5.779 \t deltaE: -1.000 \t new conflcit: 5.000\n",
      "step: 159 \t temp: 5.664 \t deltaE: +1.000 \t new conflcit: 6.000\n",
      "step: 160 \t temp: 5.608 \t deltaE: -1.000 \t new conflcit: 5.000\n",
      "step: 161 \t temp: 5.552 \t deltaE: +0.000 \t new conflcit: 5.000\n",
      "step: 162 \t temp: 5.496 \t deltaE: +0.000 \t new conflcit: 5.000\n",
      "step: 163 \t temp: 5.441 \t deltaE: +0.000 \t new conflcit: 5.000\n",
      "step: 164 \t temp: 5.387 \t deltaE: -1.000 \t new conflcit: 4.000\n",
      "step: 166 \t temp: 5.280 \t deltaE: +0.000 \t new conflcit: 4.000\n",
      "step: 170 \t temp: 5.072 \t deltaE: -1.000 \t new conflcit: 3.000\n",
      "step: 171 \t temp: 5.021 \t deltaE: +2.000 \t new conflcit: 5.000\n",
      "step: 172 \t temp: 4.971 \t deltaE: +1.000 \t new conflcit: 6.000\n",
      "step: 173 \t temp: 4.921 \t deltaE: +2.000 \t new conflcit: 8.000\n",
      "step: 174 \t temp: 4.872 \t deltaE: +0.000 \t new conflcit: 8.000\n",
      "step: 175 \t temp: 4.823 \t deltaE: +2.000 \t new conflcit: 10.000\n",
      "step: 176 \t temp: 4.775 \t deltaE: -1.000 \t new conflcit: 9.000\n",
      "step: 178 \t temp: 4.680 \t deltaE: +1.000 \t new conflcit: 10.000\n",
      "step: 179 \t temp: 4.633 \t deltaE: -1.000 \t new conflcit: 9.000\n",
      "step: 180 \t temp: 4.587 \t deltaE: -4.000 \t new conflcit: 5.000\n",
      "step: 182 \t temp: 4.495 \t deltaE: +0.000 \t new conflcit: 5.000\n",
      "step: 183 \t temp: 4.450 \t deltaE: +0.000 \t new conflcit: 5.000\n",
      "step: 184 \t temp: 4.406 \t deltaE: +0.000 \t new conflcit: 5.000\n",
      "step: 185 \t temp: 4.362 \t deltaE: +0.000 \t new conflcit: 5.000\n",
      "step: 186 \t temp: 4.318 \t deltaE: -1.000 \t new conflcit: 4.000\n",
      "step: 187 \t temp: 4.275 \t deltaE: +4.000 \t new conflcit: 8.000\n",
      "step: 189 \t temp: 4.190 \t deltaE: -1.000 \t new conflcit: 7.000\n",
      "step: 190 \t temp: 4.148 \t deltaE: -1.000 \t new conflcit: 6.000\n",
      "step: 191 \t temp: 4.107 \t deltaE: +1.000 \t new conflcit: 7.000\n",
      "step: 192 \t temp: 4.066 \t deltaE: -1.000 \t new conflcit: 6.000\n",
      "step: 193 \t temp: 4.025 \t deltaE: +0.000 \t new conflcit: 6.000\n",
      "step: 194 \t temp: 3.985 \t deltaE: +0.000 \t new conflcit: 6.000\n",
      "step: 196 \t temp: 3.905 \t deltaE: +0.000 \t new conflcit: 6.000\n",
      "step: 197 \t temp: 3.866 \t deltaE: +0.000 \t new conflcit: 6.000\n",
      "step: 198 \t temp: 3.828 \t deltaE: +1.000 \t new conflcit: 7.000\n",
      "step: 199 \t temp: 3.789 \t deltaE: -1.000 \t new conflcit: 6.000\n",
      "step: 201 \t temp: 3.714 \t deltaE: -3.000 \t new conflcit: 3.000\n",
      "step: 202 \t temp: 3.677 \t deltaE: +2.000 \t new conflcit: 5.000\n",
      "step: 203 \t temp: 3.640 \t deltaE: +0.000 \t new conflcit: 5.000\n",
      "step: 204 \t temp: 3.604 \t deltaE: +2.000 \t new conflcit: 7.000\n",
      "step: 205 \t temp: 3.568 \t deltaE: +2.000 \t new conflcit: 9.000\n",
      "step: 206 \t temp: 3.532 \t deltaE: +0.000 \t new conflcit: 9.000\n",
      "step: 208 \t temp: 3.462 \t deltaE: +3.000 \t new conflcit: 12.000\n",
      "step: 209 \t temp: 3.427 \t deltaE: -3.000 \t new conflcit: 9.000\n",
      "step: 210 \t temp: 3.393 \t deltaE: -3.000 \t new conflcit: 6.000\n",
      "step: 211 \t temp: 3.359 \t deltaE: -1.000 \t new conflcit: 5.000\n",
      "step: 214 \t temp: 3.259 \t deltaE: +1.000 \t new conflcit: 6.000\n",
      "step: 215 \t temp: 3.226 \t deltaE: +0.000 \t new conflcit: 6.000\n",
      "step: 216 \t temp: 3.194 \t deltaE: +1.000 \t new conflcit: 7.000\n",
      "step: 218 \t temp: 3.131 \t deltaE: -1.000 \t new conflcit: 6.000\n",
      "step: 219 \t temp: 3.099 \t deltaE: +0.000 \t new conflcit: 6.000\n",
      "step: 221 \t temp: 3.038 \t deltaE: -1.000 \t new conflcit: 5.000\n",
      "step: 222 \t temp: 3.007 \t deltaE: +1.000 \t new conflcit: 6.000\n",
      "step: 223 \t temp: 2.977 \t deltaE: +1.000 \t new conflcit: 7.000\n",
      "step: 224 \t temp: 2.947 \t deltaE: -1.000 \t new conflcit: 6.000\n",
      "step: 225 \t temp: 2.918 \t deltaE: +0.000 \t new conflcit: 6.000\n",
      "step: 226 \t temp: 2.889 \t deltaE: +2.000 \t new conflcit: 8.000\n",
      "step: 228 \t temp: 2.831 \t deltaE: -1.000 \t new conflcit: 7.000\n",
      "step: 229 \t temp: 2.803 \t deltaE: -3.000 \t new conflcit: 4.000\n",
      "step: 230 \t temp: 2.775 \t deltaE: +0.000 \t new conflcit: 4.000\n",
      "step: 231 \t temp: 2.747 \t deltaE: +2.000 \t new conflcit: 6.000\n",
      "step: 232 \t temp: 2.720 \t deltaE: +0.000 \t new conflcit: 6.000\n",
      "step: 233 \t temp: 2.693 \t deltaE: -1.000 \t new conflcit: 5.000\n",
      "step: 234 \t temp: 2.666 \t deltaE: +0.000 \t new conflcit: 5.000\n",
      "step: 236 \t temp: 2.613 \t deltaE: +0.000 \t new conflcit: 5.000\n",
      "step: 237 \t temp: 2.586 \t deltaE: -1.000 \t new conflcit: 4.000\n",
      "step: 239 \t temp: 2.535 \t deltaE: +0.000 \t new conflcit: 4.000\n",
      "step: 241 \t temp: 2.485 \t deltaE: +0.000 \t new conflcit: 4.000\n",
      "step: 243 \t temp: 2.435 \t deltaE: +1.000 \t new conflcit: 5.000\n",
      "step: 244 \t temp: 2.411 \t deltaE: +3.000 \t new conflcit: 8.000\n",
      "step: 245 \t temp: 2.387 \t deltaE: +2.000 \t new conflcit: 10.000\n",
      "step: 246 \t temp: 2.363 \t deltaE: -2.000 \t new conflcit: 8.000\n",
      "step: 247 \t temp: 2.339 \t deltaE: +1.000 \t new conflcit: 9.000\n",
      "step: 248 \t temp: 2.316 \t deltaE: -1.000 \t new conflcit: 8.000\n",
      "step: 249 \t temp: 2.293 \t deltaE: +0.000 \t new conflcit: 8.000\n",
      "step: 251 \t temp: 2.247 \t deltaE: +0.000 \t new conflcit: 8.000\n",
      "step: 252 \t temp: 2.224 \t deltaE: -1.000 \t new conflcit: 7.000\n",
      "step: 254 \t temp: 2.180 \t deltaE: +0.000 \t new conflcit: 7.000\n",
      "step: 255 \t temp: 2.158 \t deltaE: +1.000 \t new conflcit: 8.000\n",
      "step: 256 \t temp: 2.137 \t deltaE: -3.000 \t new conflcit: 5.000\n",
      "step: 257 \t temp: 2.115 \t deltaE: -1.000 \t new conflcit: 4.000\n",
      "step: 258 \t temp: 2.094 \t deltaE: +1.000 \t new conflcit: 5.000\n",
      "step: 259 \t temp: 2.073 \t deltaE: +2.000 \t new conflcit: 7.000\n",
      "step: 261 \t temp: 2.032 \t deltaE: -2.000 \t new conflcit: 5.000\n",
      "step: 262 \t temp: 2.012 \t deltaE: +0.000 \t new conflcit: 5.000\n",
      "step: 263 \t temp: 1.992 \t deltaE: +0.000 \t new conflcit: 5.000\n",
      "step: 264 \t temp: 1.972 \t deltaE: +3.000 \t new conflcit: 8.000\n",
      "step: 265 \t temp: 1.952 \t deltaE: +0.000 \t new conflcit: 8.000\n",
      "step: 266 \t temp: 1.933 \t deltaE: +0.000 \t new conflcit: 8.000\n",
      "step: 267 \t temp: 1.913 \t deltaE: +0.000 \t new conflcit: 8.000\n",
      "step: 268 \t temp: 1.894 \t deltaE: -2.000 \t new conflcit: 6.000\n",
      "step: 269 \t temp: 1.875 \t deltaE: +0.000 \t new conflcit: 6.000\n",
      "step: 270 \t temp: 1.856 \t deltaE: +0.000 \t new conflcit: 6.000\n",
      "step: 271 \t temp: 1.838 \t deltaE: -1.000 \t new conflcit: 5.000\n",
      "step: 275 \t temp: 1.765 \t deltaE: -1.000 \t new conflcit: 4.000\n",
      "step: 276 \t temp: 1.748 \t deltaE: +0.000 \t new conflcit: 4.000\n",
      "step: 278 \t temp: 1.713 \t deltaE: +0.000 \t new conflcit: 4.000\n",
      "step: 279 \t temp: 1.696 \t deltaE: +3.000 \t new conflcit: 7.000\n",
      "step: 280 \t temp: 1.679 \t deltaE: -2.000 \t new conflcit: 5.000\n",
      "step: 281 \t temp: 1.662 \t deltaE: -1.000 \t new conflcit: 4.000\n",
      "step: 282 \t temp: 1.645 \t deltaE: -1.000 \t new conflcit: 3.000\n",
      "step: 283 \t temp: 1.629 \t deltaE: +3.000 \t new conflcit: 6.000\n",
      "step: 284 \t temp: 1.613 \t deltaE: +0.000 \t new conflcit: 6.000\n",
      "step: 286 \t temp: 1.581 \t deltaE: +2.000 \t new conflcit: 8.000\n",
      "step: 288 \t temp: 1.549 \t deltaE: +0.000 \t new conflcit: 8.000\n",
      "step: 289 \t temp: 1.534 \t deltaE: +1.000 \t new conflcit: 9.000\n",
      "step: 290 \t temp: 1.518 \t deltaE: +0.000 \t new conflcit: 9.000\n",
      "step: 291 \t temp: 1.503 \t deltaE: +3.000 \t new conflcit: 12.000\n",
      "step: 292 \t temp: 1.488 \t deltaE: -2.000 \t new conflcit: 10.000\n",
      "step: 293 \t temp: 1.473 \t deltaE: -1.000 \t new conflcit: 9.000\n",
      "step: 294 \t temp: 1.458 \t deltaE: -2.000 \t new conflcit: 7.000\n",
      "step: 295 \t temp: 1.444 \t deltaE: +0.000 \t new conflcit: 7.000\n",
      "step: 296 \t temp: 1.429 \t deltaE: -1.000 \t new conflcit: 6.000\n",
      "step: 303 \t temp: 1.332 \t deltaE: -2.000 \t new conflcit: 4.000\n",
      "step: 304 \t temp: 1.319 \t deltaE: -1.000 \t new conflcit: 3.000\n",
      "step: 305 \t temp: 1.306 \t deltaE: +0.000 \t new conflcit: 3.000\n",
      "step: 306 \t temp: 1.293 \t deltaE: -1.000 \t new conflcit: 2.000\n",
      "step: 307 \t temp: 1.280 \t deltaE: +2.000 \t new conflcit: 4.000\n",
      "step: 308 \t temp: 1.267 \t deltaE: +0.000 \t new conflcit: 4.000\n",
      "step: 309 \t temp: 1.254 \t deltaE: +1.000 \t new conflcit: 5.000\n",
      "step: 310 \t temp: 1.242 \t deltaE: +1.000 \t new conflcit: 6.000\n",
      "step: 311 \t temp: 1.229 \t deltaE: +0.000 \t new conflcit: 6.000\n",
      "step: 312 \t temp: 1.217 \t deltaE: +0.000 \t new conflcit: 6.000\n",
      "step: 313 \t temp: 1.205 \t deltaE: +0.000 \t new conflcit: 6.000\n",
      "step: 314 \t temp: 1.193 \t deltaE: +1.000 \t new conflcit: 7.000\n",
      "step: 315 \t temp: 1.181 \t deltaE: -1.000 \t new conflcit: 6.000\n",
      "step: 316 \t temp: 1.169 \t deltaE: -1.000 \t new conflcit: 5.000\n",
      "step: 317 \t temp: 1.157 \t deltaE: +1.000 \t new conflcit: 6.000\n",
      "step: 319 \t temp: 1.134 \t deltaE: +1.000 \t new conflcit: 7.000\n",
      "step: 320 \t temp: 1.123 \t deltaE: +0.000 \t new conflcit: 7.000\n",
      "step: 321 \t temp: 1.112 \t deltaE: +0.000 \t new conflcit: 7.000\n",
      "step: 322 \t temp: 1.101 \t deltaE: +0.000 \t new conflcit: 7.000\n",
      "step: 324 \t temp: 1.079 \t deltaE: -2.000 \t new conflcit: 5.000\n",
      "step: 325 \t temp: 1.068 \t deltaE: +0.000 \t new conflcit: 5.000\n",
      "step: 327 \t temp: 1.047 \t deltaE: +0.000 \t new conflcit: 5.000\n",
      "step: 328 \t temp: 1.036 \t deltaE: +0.000 \t new conflcit: 5.000\n",
      "step: 330 \t temp: 1.016 \t deltaE: +0.000 \t new conflcit: 5.000\n",
      "step: 331 \t temp: 1.006 \t deltaE: +2.000 \t new conflcit: 7.000\n",
      "step: 332 \t temp: 0.996 \t deltaE: +2.000 \t new conflcit: 9.000\n",
      "step: 333 \t temp: 0.986 \t deltaE: -1.000 \t new conflcit: 8.000\n",
      "step: 336 \t temp: 0.956 \t deltaE: +0.000 \t new conflcit: 8.000\n",
      "step: 337 \t temp: 0.947 \t deltaE: +0.000 \t new conflcit: 8.000\n",
      "step: 339 \t temp: 0.928 \t deltaE: -1.000 \t new conflcit: 7.000\n",
      "step: 340 \t temp: 0.919 \t deltaE: -2.000 \t new conflcit: 5.000\n",
      "step: 346 \t temp: 0.865 \t deltaE: +0.000 \t new conflcit: 5.000\n",
      "step: 352 \t temp: 0.814 \t deltaE: -1.000 \t new conflcit: 4.000\n",
      "step: 354 \t temp: 0.798 \t deltaE: +0.000 \t new conflcit: 4.000\n",
      "step: 358 \t temp: 0.767 \t deltaE: +1.000 \t new conflcit: 5.000\n",
      "step: 360 \t temp: 0.751 \t deltaE: -1.000 \t new conflcit: 4.000\n",
      "step: 361 \t temp: 0.744 \t deltaE: +0.000 \t new conflcit: 4.000\n",
      "step: 365 \t temp: 0.715 \t deltaE: +2.000 \t new conflcit: 6.000\n",
      "step: 366 \t temp: 0.707 \t deltaE: +0.000 \t new conflcit: 6.000\n",
      "step: 367 \t temp: 0.700 \t deltaE: +1.000 \t new conflcit: 7.000\n",
      "step: 368 \t temp: 0.693 \t deltaE: +0.000 \t new conflcit: 7.000\n",
      "step: 369 \t temp: 0.686 \t deltaE: +0.000 \t new conflcit: 7.000\n",
      "step: 372 \t temp: 0.666 \t deltaE: -1.000 \t new conflcit: 6.000\n",
      "step: 374 \t temp: 0.653 \t deltaE: +0.000 \t new conflcit: 6.000\n",
      "step: 375 \t temp: 0.646 \t deltaE: -1.000 \t new conflcit: 5.000\n",
      "step: 376 \t temp: 0.640 \t deltaE: -1.000 \t new conflcit: 4.000\n",
      "step: 379 \t temp: 0.621 \t deltaE: +0.000 \t new conflcit: 4.000\n",
      "step: 383 \t temp: 0.596 \t deltaE: +0.000 \t new conflcit: 4.000\n",
      "step: 385 \t temp: 0.584 \t deltaE: +0.000 \t new conflcit: 4.000\n",
      "step: 390 \t temp: 0.556 \t deltaE: +0.000 \t new conflcit: 4.000\n",
      "step: 396 \t temp: 0.523 \t deltaE: -1.000 \t new conflcit: 3.000\n",
      "step: 403 \t temp: 0.488 \t deltaE: -1.000 \t new conflcit: 2.000\n",
      "step: 412 \t temp: 0.446 \t deltaE: +1.000 \t new conflcit: 3.000\n",
      "step: 416 \t temp: 0.428 \t deltaE: -1.000 \t new conflcit: 2.000\n",
      "step: 419 \t temp: 0.415 \t deltaE: +1.000 \t new conflcit: 3.000\n",
      "step: 420 \t temp: 0.411 \t deltaE: -1.000 \t new conflcit: 2.000\n",
      "step: 421 \t temp: 0.407 \t deltaE: +0.000 \t new conflcit: 2.000\n",
      "step: 424 \t temp: 0.395 \t deltaE: +0.000 \t new conflcit: 2.000\n",
      "step: 428 \t temp: 0.379 \t deltaE: +0.000 \t new conflcit: 2.000\n",
      "step: 434 \t temp: 0.357 \t deltaE: +0.000 \t new conflcit: 2.000\n",
      "step: 469 \t temp: 0.251 \t deltaE: +0.000 \t new conflcit: 2.000\n",
      "step: 480 \t temp: 0.225 \t deltaE: +0.000 \t new conflcit: 2.000\n",
      "step: 485 \t temp: 0.214 \t deltaE: -1.000 \t new conflcit: 1.000\n",
      "step: 543 \t temp: 0.119 \t deltaE: +0.000 \t new conflcit: 1.000\n",
      "step: 590 \t temp: 0.074 \t deltaE: +0.000 \t new conflcit: 1.000\n",
      "step: 670 \t temp: 0.033 \t deltaE: +0.000 \t new conflcit: 1.000\n",
      "step: 683 \t temp: 0.029 \t deltaE: +0.000 \t new conflcit: 1.000\n",
      "step: 722 \t temp: 0.020 \t deltaE: +0.000 \t new conflcit: 1.000\n",
      "step: 749 \t temp: 0.015 \t deltaE: +0.000 \t new conflcit: 1.000\n",
      "step: 782 \t temp: 0.011 \t deltaE: +0.000 \t new conflcit: 1.000\n",
      "step: 785 \t temp: 0.010 \t deltaE: +0.000 \t new conflcit: 1.000\n",
      "step: 791 \t temp: 0.010 \t deltaE: +0.000 \t new conflcit: 1.000\n",
      "step: 811 \t temp: 0.008 \t deltaE: +0.000 \t new conflcit: 1.000\n",
      "step: 823 \t temp: 0.007 \t deltaE: +0.000 \t new conflcit: 1.000\n",
      "step: 829 \t temp: 0.007 \t deltaE: +0.000 \t new conflcit: 1.000\n",
      "step: 834 \t temp: 0.006 \t deltaE: +0.000 \t new conflcit: 1.000\n",
      "step: 850 \t temp: 0.005 \t deltaE: +0.000 \t new conflcit: 1.000\n",
      "step: 865 \t temp: 0.005 \t deltaE: +0.000 \t new conflcit: 1.000\n",
      "step: 872 \t temp: 0.004 \t deltaE: +0.000 \t new conflcit: 1.000\n",
      "step: 909 \t temp: 0.003 \t deltaE: +0.000 \t new conflcit: 1.000\n",
      "step: 960 \t temp: 0.002 \t deltaE: +0.000 \t new conflcit: 1.000\n",
      "step: 984 \t temp: 0.001 \t deltaE: +0.000 \t new conflcit: 1.000\n",
      "step: 1001 \t temp: 0.001 \t deltaE: +0.000 \t new conflcit: 1.000\n",
      "step: 1010 \t temp: 0.001 \t deltaE: +0.000 \t new conflcit: 1.000\n",
      "Board with 1 conflicts.\n"
     ]
    },
    {
     "data": {
      "image/png": "[encoded data removed]",
      "text/plain": [
       "<Figure size 432x288 with 1 Axes>"
      ]
     },
     "metadata": {},
     "output_type": "display_data"
    }
   ],
   "source": [
    "def SA(board=None, T0=None,\n",
    "       alpha = 0.99, epsilon=1e-3, debug = False):\n",
    "\n",
    "    if not board is None:\n",
    "        curr_b = board\n",
    "    else:\n",
    "        curr_b = random_board(n)\n",
    "        \n",
    "    n = len(curr_b)\n",
    "    curr_conflict = conflicts(curr_b)\n",
    "    if debug: print(f\"initial conflicts: {curr_conflict}\")\n",
    "    \n",
    "    # set T0 is max conflict or curr conflict\n",
    "    if T0 is None:\n",
    "        T0 = n*(n-1)/2\n",
    "    else: \n",
    "        T0 = curr_conflict\n",
    "    \n",
    "    T = T0\n",
    "    t = 0\n",
    "    \n",
    "    while T > epsilon:\n",
    "        \n",
    "        #update T\n",
    "        T = T0 * alpha ** t\n",
    "        \n",
    "        new_board = random_move(curr_b.copy())\n",
    "        new_conflict = conflicts(new_board)\n",
    "        deltaE = new_conflict - curr_conflict\n",
    "        \n",
    "        # global optimal\n",
    "        if curr_conflict == 0:\n",
    "            break\n",
    "        \n",
    "        if deltaE < 0 or np.random.rand() < math.exp(-deltaE/T): \n",
    "            curr_b = new_board\n",
    "            curr_conflict = new_conflict\n",
    "            if debug: print(f\"step: {t} \\t temp: {T:5.3f} \\t deltaE: {deltaE:+3.3f} \\t new conflcit: {curr_conflict:3.3f}\")\n",
    "            \n",
    "        t = t + 1\n",
    "        \n",
    "    return(curr_b)\n",
    "\n",
    "\n",
    "board = random_board(8)\n",
    "# SA(board,debug=True)\n",
    "show_board(SA(board,alpha = 0.99,debug=True))"
   ]
  },
  {
   "cell_type": "markdown",
   "metadata": {},
   "source": [
    "## Compare Performance [2 Points]\n",
    "\n",
    "Use runtime, scalability, and best objective function value to compare the algorithms on boards of different sizes.  \n",
    "\n",
    "For timing you can use the `time` package."
   ]
  },
  {
   "cell_type": "code",
   "execution_count": 10,
   "metadata": {},
   "outputs": [
    {
     "name": "stdout",
     "output_type": "stream",
     "text": [
      "Do something\n",
      "This took: 0.2281665802001953 milliseconds\n"
     ]
    }
   ],
   "source": [
    "import time\n",
    "\n",
    "t0 = time.time()\n",
    "print(\"Do something\")\n",
    "t1 = time.time()\n",
    "\n",
    "print(f\"This took: {(t1-t0) * 1e3} milliseconds\")"
   ]
  },
  {
   "cell_type": "code",
   "execution_count": 11,
   "metadata": {},
   "outputs": [],
   "source": [
    "# Code and results go here"
   ]
  },
  {
   "cell_type": "markdown",
   "metadata": {},
   "source": [
    "## Bonus: Genetic Algorithm [+1 Point]"
   ]
  },
  {
   "cell_type": "code",
   "execution_count": 12,
   "metadata": {},
   "outputs": [],
   "source": [
    "# Code goes here"
   ]
  }
 ],
 "metadata": {
  "kernelspec": {
   "display_name": "Python 3",
   "language": "python",
   "name": "python3"
  },
  "language_info": {
   "codemirror_mode": {
    "name": "ipython",
    "version": 3
   },
   "file_extension": ".py",
   "mimetype": "text/x-python",
   "name": "python",
   "nbconvert_exporter": "python",
   "pygments_lexer": "ipython3",
   "version": "3.8.5"
  }
 },
 "nbformat": 4,
 "nbformat_minor": 4
}
