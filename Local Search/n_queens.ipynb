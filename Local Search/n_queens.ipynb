{
 "cells": [
  {
   "cell_type": "markdown",
   "metadata": {},
   "source": [
    "# Solving the n-Queens Problem using Local Search\n",
    "\n",
    "## Instructions\n",
    "\n",
    "Total Points: 10\n",
    "\n",
    "Complete this notebook and submit it. The notebook needs to be a complete project report with \n",
    "\n",
    "* your implementation,\n",
    "* documentation including a short discussion of how your implementation works and your design choices, and\n",
    "* experimental results (e.g., tables and charts with simulation results) with a short discussion of what they mean. \n",
    "\n",
    "Use the provided notebook cells and insert additional code and markdown cells as needed."
   ]
  },
  {
   "cell_type": "markdown",
   "metadata": {},
   "source": [
    "## The n-Queens Problem\n",
    "\n",
    "* __Goal:__ Find an arrangement of $n$ queens on a $n \\times n$ chess board so that no queen is on the same row, column or diagonal as any other queen.\n",
    "\n",
    "* __State space:__ An arrangement of the queens on the board. We restrict the state space to arrangements where there is only a single queen per column. We represent a state as an integer vector $\\mathbf{q} = \\{q_1, q_2, \\dots, q_n\\}$, each number representing the row positions of the queens from left to right. We will call a state a \"board.\"\n",
    "\n",
    "* __Objective function:__ The number of pairwise conflicts (i.e., two queens in the same row/column/diagonal).\n",
    "The optimization problem is to find the optimal arrangement $\\mathbf{q}^*$ of $n$ queens on the board:\n",
    "\n",
    "> minimize: $\\mathbf{q}^* = \\mathrm{argmin}_\\mathbf{q} \\ \\mathrm{conflicts}(\\mathbf{q})$\n",
    ">\n",
    "> subject to: $\\mathbf{q} \\ \\text{contains only one queen per column}$\n",
    "\n",
    "* __Local improvement move:__ Move one queen to a different row in its column.\n",
    "\n",
    "* __Termination:__ For this problem there is always an arrangement $\\mathbf{q}^*$ with $\\mathrm{conflicts}(\\mathbf{q}^*) = 0$, however, the local improvement moves might end up in a local minimum. "
   ]
  },
  {
   "cell_type": "markdown",
   "metadata": {},
   "source": [
    "## Helper functions"
   ]
  },
  {
   "cell_type": "code",
<<<<<<< HEAD
   "execution_count": 2,
=======
   "execution_count": 279,
>>>>>>> upstream/master
   "metadata": {},
   "outputs": [],
   "source": [
    "import numpy as np\n",
    "import matplotlib.pyplot as plt\n",
    "from matplotlib import colors\n",
    "\n",
    "np.random.seed(1234)\n",
    "\n",
    "\n",
    "def random_board(n):\n",
    "    \"\"\"Creates a random board of size n x n. Note that only a single queen is placed in each column!\"\"\"\n",
    "    \n",
    "    return(np.random.randint(0,n, size = n))\n",
    "\n",
    "def comb2(n): return n*(n-1)//2 # this is n choose 2 equivalent to math.comb(n, 2); // is int division\n",
    "\n",
    "def conflicts(board):\n",
    "    \"\"\"Caclulate the number of conflicts, i.e., the objective function.\"\"\"\n",
    "\n",
    "    n = len(board)\n",
    "    \n",
    "    horizontal_cnt = [0] * n\n",
    "    diagonal1_cnt = [0] * 2 * n\n",
    "    diagonal2_cnt = [0] * 2 * n\n",
    "    \n",
    "    for i in range(n):\n",
    "        horizontal_cnt[board[i]] += 1\n",
    "        diagonal1_cnt[i + board[i]] += 1\n",
    "        diagonal2_cnt[i - board[i] + n] += 1\n",
    "    \n",
    "    return sum(map(comb2, horizontal_cnt + diagonal1_cnt + diagonal2_cnt))\n",
    "\n",
    "\n",
    "def show_board(board, cols = ['white', 'gray'], fontsize = 48):  \n",
    "    \"\"\"display the board\"\"\"\n",
    "    \n",
    "    n = len(board)\n",
    "    \n",
    "    # create chess board display\n",
    "    display = np.zeros([n,n])\n",
    "    for i in range(n):\n",
    "        for j in range(n):\n",
    "            if (((i+j) % 2) != 0): \n",
    "                display[i,j] = 1\n",
    "    \n",
    "    cmap = colors.ListedColormap(cols)\n",
    "    fig, ax = plt.subplots()\n",
    "    ax.imshow(display, cmap = cmap, \n",
    "              norm = colors.BoundaryNorm(range(len(cols)+1), cmap.N))\n",
    "    ax.set_xticks([])\n",
    "    ax.set_yticks([])\n",
    "    \n",
    "    # place queens. Note: Unicode u265B is a black queen\n",
    "    for j in range(n):\n",
    "        plt.text(j, board[j], u\"\\u265B\", fontsize = fontsize, \n",
    "                 horizontalalignment = 'center',\n",
    "                 verticalalignment = 'center')\n",
    "    \n",
    "    print(f\"Board with {conflicts(board)} conflicts.\")\n",
    "    plt.show()"
   ]
  },
  {
   "cell_type": "markdown",
   "metadata": {},
   "source": [
    "## Create a board"
   ]
  },
  {
   "cell_type": "code",
<<<<<<< HEAD
   "execution_count": 3,
=======
   "execution_count": 280,
>>>>>>> upstream/master
   "metadata": {},
   "outputs": [
    {
     "name": "stdout",
     "output_type": "stream",
     "text": [
      "Board with 2 conflicts.\n"
     ]
    },
    {
     "data": {
<<<<<<< HEAD
      "image/png": "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\n",
=======
      "image/png": "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\n",
>>>>>>> upstream/master
      "text/plain": [
       "<Figure size 432x288 with 1 Axes>"
      ]
     },
     "metadata": {},
     "output_type": "display_data"
    },
    {
     "name": "stdout",
     "output_type": "stream",
     "text": [
<<<<<<< HEAD
      "Queens (left to right) are at rows: [0 2 0 1]\n",
      "Number of conflicts: 2\n"
=======
      "Queens (left to right) are at rows: [3 3 2 1]\n",
      "Number of conflicts: 4\n"
>>>>>>> upstream/master
     ]
    }
   ],
   "source": [
    "board = random_board(4)\n",
    "show_board(board)\n",
    "print(f\"Queens (left to right) are at rows: {board}\")\n",
    "print(f\"Number of conflicts: {conflicts(board)}\")"
   ]
  },
  {
   "cell_type": "markdown",
   "metadata": {},
   "source": [
    "A board $4 \\times 4$ with no conflicts:"
   ]
  },
  {
   "cell_type": "code",
<<<<<<< HEAD
   "execution_count": 4,
=======
   "execution_count": 281,
>>>>>>> upstream/master
   "metadata": {},
   "outputs": [
    {
     "name": "stdout",
     "output_type": "stream",
     "text": [
      "Board with 0 conflicts.\n"
     ]
    },
    {
     "data": {
      "image/png": "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\n",
      "text/plain": [
       "<Figure size 432x288 with 1 Axes>"
      ]
     },
     "metadata": {},
     "output_type": "display_data"
    }
   ],
   "source": [
    "board = [1,3,0,2]\n",
    "show_board(board)"
   ]
  },
  {
   "cell_type": "markdown",
   "metadata": {},
   "source": [
    "## Steepest-ascend Hill Climbing Search [2 Points]\n",
    "\n",
    "Calculate the objective function for all local moves (move each queen within its column) and always choose the best among all local moves. If there are no local moves that improve the objective, then you have reached a local optimum. "
   ]
  },
  {
   "cell_type": "code",
<<<<<<< HEAD
   "execution_count": 267,
   "metadata": {},
   "outputs": [
    {
     "name": "stdout",
     "output_type": "stream",
     "text": [
      "[2 2 0 0]\n",
      "12\n",
      "[2 2 0 3]\n"
     ]
    }
   ],
   "source": [
    "def all_next_moves(board):\n",
    "    # get all local moves\n",
    "    moves = []\n",
    "    \n",
    "    for q in range(len(board)):\n",
    "        for i in range(0,len(board)):\n",
    "            temp = board.copy()\n",
    "            if i != board[q]:\n",
    "                temp[q]=i\n",
    "                moves.append(temp)\n",
    "    \n",
    "    return np.array(moves)\n",
    "\n",
    "def next_best_move(moves):\n",
    "    \n",
    "    #return the first best move\n",
    "    conflict = [conflicts(m) for m in moves]\n",
    "    min_index = conflict.index(min(conflict))\n",
    "    return moves[min_index]\n",
    "\n",
    "\n",
    "moves = get_all_moves(board)\n",
    "print(len(moves))\n",
    "print(next_best_move(moves))"
   ]
  },
  {
   "cell_type": "code",
   "execution_count": 516,
=======
   "execution_count": 282,
>>>>>>> upstream/master
   "metadata": {
    "scrolled": false
   },
   "outputs": [
    {
     "name": "stdout",
     "output_type": "stream",
     "text": [
      "Board with 1 conflicts.\n"
     ]
    },
    {
     "data": {
      "image/png": "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\n",
      "text/plain": [
       "<Figure size 432x288 with 1 Axes>"
      ]
     },
     "metadata": {},
     "output_type": "display_data"
    }
   ],
   "source": [
<<<<<<< HEAD
    "def SAHC(board, debug = False):\n",
    "    n = len(board)\n",
    "    curr_b = board.copy()\n",
    "    curr_conflict = conflicts(curr_b)\n",
    "    if debug: print(f\"initial conflicts: {curr_conflict}\")\n",
    "    if debug:show_board(curr_b)\n",
    "    \n",
    "    while(1):\n",
    "        next_moves = all_next_moves(curr_b)\n",
    "        new_board = next_best_move(next_moves)\n",
    "        new_conflict = conflicts(new_board)\n",
    "        \n",
    "        if new_conflict < curr_conflict:\n",
    "            curr_b = new_board\n",
    "            curr_conflict = new_conflict\n",
    "            if debug: print(f\"new conflict: {curr_conflict}\")\n",
    "            if debug: show_board(curr_b)\n",
    "                \n",
    "        else:\n",
    "            return curr_b\n",
    "        \n",
    "\n",
    "board = random_board(8)\n",
    "show_board(SAHC(board,debug=False))"
=======
    "# Code and description go here"
>>>>>>> upstream/master
   ]
  },
  {
   "cell_type": "markdown",
   "metadata": {},
   "source": [
    "## Stochastic Hill Climbing 1 [1 Point]\n",
    "\n",
    "Chooses randomly from among all uphill moves. Make the probability of the choice proportional to the steepness of the uphill move (i.e., with the improvement in conflicts). "
   ]
  },
  {
   "cell_type": "code",
<<<<<<< HEAD
   "execution_count": 574,
   "metadata": {
    "scrolled": false
   },
   "outputs": [
    {
     "name": "stdout",
     "output_type": "stream",
     "text": [
      "Board with 0 conflicts.\n"
     ]
    },
    {
     "data": {
      "image/png": "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\n",
      "text/plain": [
       "<Figure size 432x288 with 1 Axes>"
      ]
     },
     "metadata": {},
     "output_type": "display_data"
    }
   ],
   "source": [
    "def SAHC_RS(board,start_count=100,debug=False):\n",
    "    curr = board\n",
    "    curr_conflict = conflicts(curr)\n",
    "    \n",
    "    for i in range(start_count):\n",
    "        new_start = random_board(len(board))\n",
    "        new_board = SAHC(new_start)\n",
    "        new_conflict = conflicts(new_board)\n",
    "        \n",
    "        # global optimal \n",
    "        if curr_conflict == 0:\n",
    "            return curr_b\n",
    "        \n",
    "        if new_conflict < curr_conflict:\n",
    "            curr_b = new_board\n",
    "            curr_conflict = new_conflict\n",
    "            if debug: print(f\"new conflict: {curr_conflict}\")\n",
    "            if debug: show_board(curr_b)\n",
    "        \n",
    "    return curr_b\n",
    "\n",
    "board = random_board(8)\n",
    "show_board(SAHC_RS(board))"
=======
   "execution_count": 283,
   "metadata": {},
   "outputs": [],
   "source": [
    "# Code and description go here"
>>>>>>> upstream/master
   ]
  },
  {
   "cell_type": "markdown",
   "metadata": {},
   "source": [
    "## Stochastic Hill Climbing 2 [2 Point]\n",
    "\n",
    "A popular version of stochastic hill climbing generates only a single random local neighbor at a time and accept it if it has a better objective function value than the current state. This is very efficient if each state has many possible successor states. This method is called \"First-choice hill climbing\" in the textbook.\n",
    "\n",
    "__Notes:__ \n",
    "\n",
    "* Detecting local optima is tricky! You can, for example, stop if you were not able to improve the objective function during the last $x$ tries."
   ]
  },
  {
   "cell_type": "code",
<<<<<<< HEAD
   "execution_count": 509,
=======
   "execution_count": 284,
>>>>>>> upstream/master
   "metadata": {},
   "outputs": [
    {
     "name": "stdout",
     "output_type": "stream",
     "text": [
      "Board with 2 conflicts.\n"
     ]
    },
    {
     "data": {
      "image/png": "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\n",
      "text/plain": [
       "<Figure size 432x288 with 1 Axes>"
      ]
     },
     "metadata": {},
     "output_type": "display_data"
    }
   ],
   "source": [
<<<<<<< HEAD
    "def random_uphill_move(board, threshold):\n",
    "    \n",
    "    # get all good local moves\n",
    "    moves = all_next_moves(board)\n",
    "    uphill_moves = [m for m in moves if conflicts(m) < threshold]\n",
    "    \n",
    "    #return orignal move if no better move avaiable\n",
    "    if len(uphill_moves)== 0:\n",
    "        return board\n",
    "    else:\n",
    "        return uphill_moves[np.random.choice(len(uphill_moves))]\n",
    "\n",
    "\n",
    "def SHC(board, debug = False):\n",
    "    n = len(board)\n",
    "    curr_b = board.copy()\n",
    "    curr_conflict = conflicts(curr_b)\n",
    "    if debug: print(f\"initial conflicts: {curr_conflict}\")\n",
    "    if debug:show_board(curr_b)\n",
    "    \n",
    "    while(1):\n",
    "        # get the best local moves\n",
    "        new_board = random_uphill_move(curr_b, curr_conflict)\n",
    "        new_conflict = conflicts(new_board)\n",
    "        \n",
    "        if new_conflict < curr_conflict:\n",
    "            curr_b = new_board\n",
    "            curr_conflict = new_conflict\n",
    "            if debug: print(f\"new conflict: {curr_conflict}\")\n",
    "            if debug: show_board(curr_b)\n",
    "                \n",
    "        else:\n",
    "            return curr_b\n",
    "        \n",
    "\n",
    "board = random_board(8)\n",
    "show_board(SHC(board,debug=False))\n"
=======
    "# Code and description go here"
>>>>>>> upstream/master
   ]
  },
  {
   "cell_type": "markdown",
   "metadata": {},
   "source": [
    "## Hill Climbing Search with Random Restarts [1 Point]\n",
    "\n",
    "Hill climbing will often end up in local optima. Restart the each of the three hill climbing algorithm up to 100 times with a random board to find a better (hopefully optimal) solution.   "
   ]
  },
  {
   "cell_type": "code",
<<<<<<< HEAD
   "execution_count": 550,
   "metadata": {},
   "outputs": [
    {
     "name": "stdout",
     "output_type": "stream",
     "text": [
      "initial conflicts: 8\n",
      "step: 3 - new conflict: 7\n",
      "step: 6 - new conflict: 6\n",
      "step: 7 - new conflict: 5\n",
      "step: 15 - new conflict: 4\n",
      "step: 29 - new conflict: 3\n",
      "step: 33 - new conflict: 2\n",
      "step: 1034 - no improvement for 1000 steps.\n",
      "Board with 2 conflicts.\n"
     ]
    },
    {
     "data": {
      "image/png": "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\n",
      "text/plain": [
       "<Figure size 432x288 with 1 Axes>"
      ]
     },
     "metadata": {},
     "output_type": "display_data"
    }
   ],
   "source": [
    "def random_move(board):\n",
    "    # random queen and then random row\n",
    "    random_queen = np.random.randint(0,len(board))\n",
    "    \n",
    "    #exclude original step\n",
    "    row = [i for i in range(0,len(board)) if i != board[random_queen]]\n",
    "    board[random_queen] = np.random.choice(row)\n",
    "\n",
    "    return board\n",
    "\n",
    "# print(random_move([0,0,0,1]))\n",
    "\n",
    "def FCHC(board=None, max_steps = 10000, \n",
    "         stop_after = 1000, debug= False):\n",
    "\n",
    "    curr_b = board\n",
    "    curr_conflict = conflicts(curr_b)\n",
    "    if debug: print(f\"initial conflicts: {curr_conflict}\")\n",
    "    \n",
    "    last_better_step = 0\n",
    "    \n",
    "    for s in range(max_steps):\n",
    "        \n",
    "        new_board = random_move(curr_b.copy())\n",
    "        new_conflict = conflicts(new_board)\n",
    "        \n",
    "        if new_conflict < curr_conflict:\n",
    "            curr_b = new_board\n",
    "            curr_conflict = new_conflict\n",
    "            last_better_step = s\n",
    "            if debug: print(f\"step: {s} - new conflict: {curr_conflict}\")\n",
    "        \n",
    "        # global optimal\n",
    "        if curr_conflict == 0:\n",
    "            break\n",
    "        \n",
    "        # break if exceed \n",
    "        if s - last_better_step > stop_after:\n",
    "            if debug: print(f\"step: {s} - no improvement for {stop_after} steps.\")\n",
    "            return(curr_b)\n",
    "        \n",
    "    return(curr_b)\n",
    "\n",
    "board = random_board(8)\n",
    "nb = FCHC(board,debug=True)\n",
    "show_board(nb)"
=======
   "execution_count": 285,
   "metadata": {
    "scrolled": false
   },
   "outputs": [],
   "source": [
    "# Code and description go here"
>>>>>>> upstream/master
   ]
  },
  {
   "cell_type": "markdown",
   "metadata": {},
   "source": [
    "## Simulated Annealing [2 Points]\n",
    "\n",
    "Simulated annealing is a form of stochastic hill climbing that also allows downhill moves with a probability proportional to the temperature. This is done to avoid local optima. The temperature is decreased in every iteration following an annealing schedule. You have to experiment with the annealing schedule (Google to find guidance on this)."
   ]
  },
  {
   "cell_type": "code",
<<<<<<< HEAD
   "execution_count": 565,
=======
   "execution_count": 286,
>>>>>>> upstream/master
   "metadata": {},
   "outputs": [
    {
     "name": "stdout",
     "output_type": "stream",
     "text": [
      "Board with 0 conflicts.\n"
     ]
    },
    {
     "data": {
      "image/png": "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\n",
      "text/plain": [
       "<Figure size 432x288 with 1 Axes>"
      ]
     },
     "metadata": {},
     "output_type": "display_data"
    }
   ],
   "source": [
<<<<<<< HEAD
    "def SA(board=None, T0=None,\n",
    "       alpha = 0.99, epsilon=1e-3, debug = False):\n",
    "\n",
    "    if not board is None:\n",
    "        curr_b = board\n",
    "    else:\n",
    "        curr_b = random_board(n)\n",
    "        \n",
    "    n = len(curr_b)\n",
    "    curr_conflict = conflicts(curr_b)\n",
    "    if debug: print(f\"initial conflicts: {curr_conflict}\")\n",
    "    \n",
    "    # set T0 is max conflict or curr conflict\n",
    "    if T0 is None:\n",
    "        T0 = n*(n-1)/2\n",
    "    else: \n",
    "        T0 = curr_conflict\n",
    "    \n",
    "    T = T0\n",
    "    t = 0\n",
    "    \n",
    "    while T > epsilon:\n",
    "        \n",
    "        #update T\n",
    "        T = T0 * alpha ** t\n",
    "        \n",
    "        new_board = random_move(curr_b.copy())\n",
    "        new_conflict = conflicts(new_board)\n",
    "        deltaE = new_conflict - curr_conflict\n",
    "        \n",
    "        # global optimal\n",
    "        if curr_conflict == 0:\n",
    "            break\n",
    "        \n",
    "        if deltaE < 0 or np.random.rand() < math.exp(-deltaE/T): \n",
    "            curr_b = new_board\n",
    "            curr_conflict = new_conflict\n",
    "            if debug: print(f\"step: {t} \\t temp: {T:5.3f} \\t deltaE: {deltaE:+3.3f} \\t new conflcit: {curr_conflict:3.3f}\")\n",
    "            \n",
    "        t = t + 1\n",
    "        \n",
    "    return(curr_b)\n",
    "\n",
    "\n",
    "board = random_board(10)\n",
    "# SA(board,debug=True)\n",
    "show_board(SA(board,alpha = 0.99,debug=False))"
=======
    "# Code and description go here"
>>>>>>> upstream/master
   ]
  },
  {
   "cell_type": "markdown",
   "metadata": {},
   "source": [
    "## Compare Performance [2 Points]\n",
    "\n",
    "Use runtime and objective function value to compare the algorithms. Use boards of different sizes to explore scalability and discuss how the different algorithms perform. Make sure that you run the algorithms for each board size several times (at least 10 times) with different starting boards and report averages.\n",
    "\n",
    "The example below times creating 100 random boards and calculating the conflicts. Reported is the average run time over `N = 100` runs.\n",
    "\n",
    "For timing you can use the `time` package."
   ]
  },
  {
   "cell_type": "code",
<<<<<<< HEAD
   "execution_count": 624,
=======
   "execution_count": 287,
>>>>>>> upstream/master
   "metadata": {},
   "outputs": [
    {
     "name": "stdout",
     "output_type": "stream",
     "text": [
<<<<<<< HEAD
      "-----------4 queens------------\n",
      "  SAHC take avarage 2.157 ms\n",
      "  SAHC has avarage 0.6 conflict\n",
      "  SAHC_RS take avarage 5.820 ms\n",
      "  SAHC_RS has avarage 0.0 conflict\n",
      "  SHC take avarage 1.944 ms\n",
      "  SHC has avarage 0.8 conflict\n",
      "  FCHC take avarage 44.959 ms\n",
      "  FCHC has avarage 0.8 conflict\n",
      "  SA take avarage 6.166 ms\n",
      "  SA has avarage 0.0 conflict\n",
      "\n",
      "\n",
      "-----------6 queens------------\n",
      "  SAHC take avarage 7.878 ms\n",
      "  SAHC has avarage 1.0 conflict\n",
      "  SAHC_RS take avarage 86.330 ms\n",
      "  SAHC_RS has avarage 0.0 conflict\n",
      "  SHC take avarage 10.756 ms\n",
      "  SHC has avarage 1.1 conflict\n",
      "  FCHC take avarage 87.007 ms\n",
      "  FCHC has avarage 1.2 conflict\n",
      "  SA take avarage 66.912 ms\n",
      "  SA has avarage 0.4 conflict\n",
      "\n",
      "\n",
      "-----------8 queens------------\n",
      "  SAHC take avarage 26.506 ms\n",
      "  SAHC has avarage 1.2 conflict\n",
      "  SAHC_RS take avarage 196.889 ms\n",
      "  SAHC_RS has avarage 0.0 conflict\n",
      "  SHC take avarage 37.816 ms\n",
      "  SHC has avarage 1.3 conflict\n",
      "  FCHC take avarage 115.737 ms\n",
      "  FCHC has avarage 1.3 conflict\n",
      "  SA take avarage 103.120 ms\n",
      "  SA has avarage 0.4 conflict\n",
      "\n",
      "\n"
=======
      "This took: 5.320703983306885 milliseconds\n"
>>>>>>> upstream/master
     ]
    }
   ],
   "source": [
    "import time\n",
    "\n",
<<<<<<< HEAD
    "size_boards = [4,6,8]\n",
    "strategy = [SAHC,SAHC_RS,SHC,FCHC,SA]\n",
    "time_cost = []\n",
    "conflict_num = []\n",
    "\n",
    "new_board = random_board(4)\n",
    "\n",
    "for size in size_boards:\n",
    "    print(f\"-----------{size} queens------------\")\n",
    "\n",
    "    for s in strategy:\n",
    "        total_time = 0\n",
    "        total_conflict = 0\n",
    "        #run 100 time for each size\n",
    "        for i in range(100):\n",
    "            board = random_board(size)\n",
    "            t0 = time.time()\n",
    "            result = s(board)\n",
    "            t1 = time.time()\n",
    "\n",
    "            total_time += (t1-t0)*1e3\n",
    "            total_conflict += conflicts(result)\n",
    "\n",
    "        print(f\"  {s.__name__} take avarage {total_time/100:3.3f} ms\")\n",
    "        print(f\"  {s.__name__} has avarage {total_conflict/100:3.1f} conflict\")\n",
    "    \n",
    "    print(\"\\n\")\n",
    "    \n"
   ]
  },
  {
   "cell_type": "markdown",
=======
    "N = 100\n",
    "total = 0\n",
    "\n",
    "for i in range(N):\n",
    "    t0 = time.time()\n",
    "    for i in range(1,100): conflicts(random_board(8))\n",
    "    t1 = time.time()\n",
    "    total += t1 - t0\n",
    "\n",
    "tm = total/N\n",
    "    \n",
    "print(f\"This took: {tm * 1e3} milliseconds\")"
   ]
  },
  {
   "cell_type": "markdown",
   "metadata": {},
   "source": [
    "The `timit` package is useful to measure time for code that is called repeatedly."
   ]
  },
  {
   "cell_type": "code",
   "execution_count": 291,
   "metadata": {},
   "outputs": [
    {
     "name": "stdout",
     "output_type": "stream",
     "text": [
      "This took: 5.123364410246722 ms\n"
     ]
    }
   ],
   "source": [
    "import timeit\n",
    "\n",
    "N = 100\n",
    "\n",
    "tm = timeit.timeit('for i in range(1,100): conflicts(random_board(8))', \n",
    "                   globals = globals(), number = N)/N\n",
    "\n",
    "print(f\"This took: {tm * 1e3} milliseconds\")"
   ]
  },
  {
   "cell_type": "code",
   "execution_count": 289,
>>>>>>> upstream/master
   "metadata": {},
   "source": [
<<<<<<< HEAD
    "## Discussion\n",
    "From above table we can see SAHC and SHC perform fairly similiar. Both of them are fast but easily fall into local maxima.  \n",
    "With random restart 100 times, SAHC becomes close to optimal but takes 10x time.  \n",
    "SA runs faster than SAHC with random start, but generates slightly more conflict.  \n",
    "FCHC performs the worst with poor result and long run time"
=======
    "# Code, results, charts and discussion go here"
>>>>>>> upstream/master
   ]
  },
  {
   "cell_type": "markdown",
   "metadata": {},
   "source": [
    "## Bonus: Implement a Genetic Algorithm for the n-Queens problem [+1 Point]"
   ]
  },
  {
   "cell_type": "code",
<<<<<<< HEAD
   "execution_count": 12,
=======
   "execution_count": 290,
>>>>>>> upstream/master
   "metadata": {},
   "outputs": [],
   "source": [
    "# Code and description go here"
   ]
  }
 ],
 "metadata": {
  "kernelspec": {
   "display_name": "Python 3",
   "language": "python",
   "name": "python3"
  },
  "language_info": {
   "codemirror_mode": {
    "name": "ipython",
    "version": 3
   },
   "file_extension": ".py",
   "mimetype": "text/x-python",
   "name": "python",
   "nbconvert_exporter": "python",
   "pygments_lexer": "ipython3",
   "version": "3.8.5"
  }
 },
 "nbformat": 4,
 "nbformat_minor": 4
}
